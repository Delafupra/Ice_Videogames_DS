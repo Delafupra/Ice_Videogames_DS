{
 "cells": [
  {
   "cell_type": "markdown",
   "metadata": {},
   "source": [
    "¡Hola!\n",
    "\n",
    "Mi nombre es Tonatiuh Cruz. Me complace revisar tu proyecto hoy.\n",
    "\n",
    "Al identificar cualquier error inicialmente, simplemente los destacaré. Te animo a localizar y abordar los problemas de forma independiente como parte de tu preparación para un rol como data-scientist. En un entorno profesional, tu líder de equipo seguiría un enfoque similar. Si encuentras la tarea desafiante, proporcionaré una pista más específica en la próxima iteración.\n",
    "\n",
    "Encontrarás mis comentarios a continuación - **por favor no los muevas, modifiques o elimines**.\n",
    "\n",
    "Puedes encontrar mis comentarios en cajas verdes, amarillas o rojas como esta:\n",
    "\n",
    "<div class=\"alert alert-block alert-success\">\n",
    "<b>Comentario del revisor</b> <a class=\"tocSkip\"></a>\n",
    "\n",
    "Éxito. Todo está hecho correctamente.\n",
    "</div>\n",
    "\n",
    "<div class=\"alert alert-block alert-warning\">\n",
    "<b>Comentario del revisor</b> <a class=\"tocSkip\"></a>\n",
    "\n",
    "Observaciones. Algunas recomendaciones.\n",
    "</div>\n",
    "\n",
    "<div class=\"alert alert-block alert-danger\">\n",
    "<b>Comentario del revisor</b> <a class=\"tocSkip\"></a>\n",
    "\n",
    "Necesita corrección. El bloque requiere algunas correcciones. El trabajo no puede ser aceptado con comentarios en rojo.\n",
    "</div>\n",
    "\n",
    "Puedes responderme utilizando esto:\n",
    "\n",
    "<div class=\"alert alert-block alert-info\">\n",
    "<b>Respuesta del estudiante.</b> <a class=\"tocSkip\"></a>\n",
    "</div>"
   ]
  },
  {
   "cell_type": "markdown",
   "metadata": {},
   "source": [
    "<div class=\"alert alert-block alert-warning\">\n",
    "<b>Comentario del revisor</b> <a class=\"tocSkip\"></a>\n",
    "\n",
    "¡Hola! Recuerda que para los ejercicio de análisis de datos es necesario desarrollar la introducción, objetivo y etapas de análisis. Esto es crucial para cualquier proyecto, ya que establece una guía clara sobre los pasos a seguir. Tener estos elementos bien definidos desde el principio nos permite trabajar de manera más organizada y eficiente. En un futuro lo podrías complementar con una tabla de contenido.\n",
    "</div>"
   ]
  },
  {
   "cell_type": "code",
   "execution_count": 1,
   "metadata": {
    "tags": [
     "e5c1f0c2-db9f-43a0-99b9-4875c52427e8"
    ]
   },
   "outputs": [],
   "source": [
    "import pandas as pd\n",
    "import matplotlib.pyplot as plt\n",
    "import seaborn as sns\n",
    "from scipy import stats as st"
   ]
  },
  {
   "cell_type": "code",
   "execution_count": 2,
   "metadata": {},
   "outputs": [
    {
     "name": "stdout",
     "output_type": "stream",
     "text": [
      "<class 'pandas.core.frame.DataFrame'>\n",
      "RangeIndex: 16715 entries, 0 to 16714\n",
      "Data columns (total 11 columns):\n",
      " #   Column           Non-Null Count  Dtype  \n",
      "---  ------           --------------  -----  \n",
      " 0   Name             16713 non-null  object \n",
      " 1   Platform         16715 non-null  object \n",
      " 2   Year_of_Release  16446 non-null  float64\n",
      " 3   Genre            16713 non-null  object \n",
      " 4   NA_sales         16715 non-null  float64\n",
      " 5   EU_sales         16715 non-null  float64\n",
      " 6   JP_sales         16715 non-null  float64\n",
      " 7   Other_sales      16715 non-null  float64\n",
      " 8   Critic_Score     8137 non-null   float64\n",
      " 9   User_Score       10014 non-null  object \n",
      " 10  Rating           9949 non-null   object \n",
      "dtypes: float64(6), object(5)\n",
      "memory usage: 1.4+ MB\n"
     ]
    }
   ],
   "source": [
    "games_df = pd.read_csv(\"/datasets/games.csv\" )\n",
    "games_df.info()"
   ]
  },
  {
   "cell_type": "markdown",
   "metadata": {},
   "source": [
    "\n",
    "<div class=\"alert alert-block alert-success\">\n",
    "<b>Comentario del revisor:</b> <a class=\"tocSkip\"></a>\n",
    "    \n",
    "Has realizado un excelente trabajo al importar los datos y las bibliotecas necesarias.\n",
    "\n",
    "</div>"
   ]
  },
  {
   "cell_type": "code",
   "execution_count": 3,
   "metadata": {},
   "outputs": [
    {
     "data": {
      "text/html": [
       "<div>\n",
       "<style scoped>\n",
       "    .dataframe tbody tr th:only-of-type {\n",
       "        vertical-align: middle;\n",
       "    }\n",
       "\n",
       "    .dataframe tbody tr th {\n",
       "        vertical-align: top;\n",
       "    }\n",
       "\n",
       "    .dataframe thead th {\n",
       "        text-align: right;\n",
       "    }\n",
       "</style>\n",
       "<table border=\"1\" class=\"dataframe\">\n",
       "  <thead>\n",
       "    <tr style=\"text-align: right;\">\n",
       "      <th></th>\n",
       "      <th>Name</th>\n",
       "      <th>Platform</th>\n",
       "      <th>Year_of_Release</th>\n",
       "      <th>Genre</th>\n",
       "      <th>NA_sales</th>\n",
       "      <th>EU_sales</th>\n",
       "      <th>JP_sales</th>\n",
       "      <th>Other_sales</th>\n",
       "      <th>Critic_Score</th>\n",
       "      <th>User_Score</th>\n",
       "      <th>Rating</th>\n",
       "    </tr>\n",
       "  </thead>\n",
       "  <tbody>\n",
       "    <tr>\n",
       "      <th>0</th>\n",
       "      <td>Wii Sports</td>\n",
       "      <td>Wii</td>\n",
       "      <td>2006.0</td>\n",
       "      <td>Sports</td>\n",
       "      <td>41.36</td>\n",
       "      <td>28.96</td>\n",
       "      <td>3.77</td>\n",
       "      <td>8.45</td>\n",
       "      <td>76.0</td>\n",
       "      <td>8</td>\n",
       "      <td>E</td>\n",
       "    </tr>\n",
       "    <tr>\n",
       "      <th>1</th>\n",
       "      <td>Super Mario Bros.</td>\n",
       "      <td>NES</td>\n",
       "      <td>1985.0</td>\n",
       "      <td>Platform</td>\n",
       "      <td>29.08</td>\n",
       "      <td>3.58</td>\n",
       "      <td>6.81</td>\n",
       "      <td>0.77</td>\n",
       "      <td>NaN</td>\n",
       "      <td>NaN</td>\n",
       "      <td>NaN</td>\n",
       "    </tr>\n",
       "    <tr>\n",
       "      <th>2</th>\n",
       "      <td>Mario Kart Wii</td>\n",
       "      <td>Wii</td>\n",
       "      <td>2008.0</td>\n",
       "      <td>Racing</td>\n",
       "      <td>15.68</td>\n",
       "      <td>12.76</td>\n",
       "      <td>3.79</td>\n",
       "      <td>3.29</td>\n",
       "      <td>82.0</td>\n",
       "      <td>8.3</td>\n",
       "      <td>E</td>\n",
       "    </tr>\n",
       "    <tr>\n",
       "      <th>3</th>\n",
       "      <td>Wii Sports Resort</td>\n",
       "      <td>Wii</td>\n",
       "      <td>2009.0</td>\n",
       "      <td>Sports</td>\n",
       "      <td>15.61</td>\n",
       "      <td>10.93</td>\n",
       "      <td>3.28</td>\n",
       "      <td>2.95</td>\n",
       "      <td>80.0</td>\n",
       "      <td>8</td>\n",
       "      <td>E</td>\n",
       "    </tr>\n",
       "    <tr>\n",
       "      <th>4</th>\n",
       "      <td>Pokemon Red/Pokemon Blue</td>\n",
       "      <td>GB</td>\n",
       "      <td>1996.0</td>\n",
       "      <td>Role-Playing</td>\n",
       "      <td>11.27</td>\n",
       "      <td>8.89</td>\n",
       "      <td>10.22</td>\n",
       "      <td>1.00</td>\n",
       "      <td>NaN</td>\n",
       "      <td>NaN</td>\n",
       "      <td>NaN</td>\n",
       "    </tr>\n",
       "  </tbody>\n",
       "</table>\n",
       "</div>"
      ],
      "text/plain": [
       "                       Name Platform  Year_of_Release         Genre  NA_sales  \\\n",
       "0                Wii Sports      Wii           2006.0        Sports     41.36   \n",
       "1         Super Mario Bros.      NES           1985.0      Platform     29.08   \n",
       "2            Mario Kart Wii      Wii           2008.0        Racing     15.68   \n",
       "3         Wii Sports Resort      Wii           2009.0        Sports     15.61   \n",
       "4  Pokemon Red/Pokemon Blue       GB           1996.0  Role-Playing     11.27   \n",
       "\n",
       "   EU_sales  JP_sales  Other_sales  Critic_Score User_Score Rating  \n",
       "0     28.96      3.77         8.45          76.0          8      E  \n",
       "1      3.58      6.81         0.77           NaN        NaN    NaN  \n",
       "2     12.76      3.79         3.29          82.0        8.3      E  \n",
       "3     10.93      3.28         2.95          80.0          8      E  \n",
       "4      8.89     10.22         1.00           NaN        NaN    NaN  "
      ]
     },
     "execution_count": 3,
     "metadata": {},
     "output_type": "execute_result"
    }
   ],
   "source": [
    "games_df.head()"
   ]
  },
  {
   "cell_type": "markdown",
   "metadata": {},
   "source": [
    "# Paso 2. Prepara los datos"
   ]
  },
  {
   "cell_type": "code",
   "execution_count": 4,
   "metadata": {},
   "outputs": [
    {
     "data": {
      "text/html": [
       "<div>\n",
       "<style scoped>\n",
       "    .dataframe tbody tr th:only-of-type {\n",
       "        vertical-align: middle;\n",
       "    }\n",
       "\n",
       "    .dataframe tbody tr th {\n",
       "        vertical-align: top;\n",
       "    }\n",
       "\n",
       "    .dataframe thead th {\n",
       "        text-align: right;\n",
       "    }\n",
       "</style>\n",
       "<table border=\"1\" class=\"dataframe\">\n",
       "  <thead>\n",
       "    <tr style=\"text-align: right;\">\n",
       "      <th></th>\n",
       "      <th>name</th>\n",
       "      <th>platform</th>\n",
       "      <th>year_of_release</th>\n",
       "      <th>genre</th>\n",
       "      <th>na_sales</th>\n",
       "      <th>eu_sales</th>\n",
       "      <th>jp_sales</th>\n",
       "      <th>other_sales</th>\n",
       "      <th>critic_score</th>\n",
       "      <th>user_score</th>\n",
       "      <th>rating</th>\n",
       "    </tr>\n",
       "  </thead>\n",
       "  <tbody>\n",
       "    <tr>\n",
       "      <th>0</th>\n",
       "      <td>Wii Sports</td>\n",
       "      <td>Wii</td>\n",
       "      <td>2006.0</td>\n",
       "      <td>Sports</td>\n",
       "      <td>41.36</td>\n",
       "      <td>28.96</td>\n",
       "      <td>3.77</td>\n",
       "      <td>8.45</td>\n",
       "      <td>76.0</td>\n",
       "      <td>8</td>\n",
       "      <td>E</td>\n",
       "    </tr>\n",
       "    <tr>\n",
       "      <th>1</th>\n",
       "      <td>Super Mario Bros.</td>\n",
       "      <td>NES</td>\n",
       "      <td>1985.0</td>\n",
       "      <td>Platform</td>\n",
       "      <td>29.08</td>\n",
       "      <td>3.58</td>\n",
       "      <td>6.81</td>\n",
       "      <td>0.77</td>\n",
       "      <td>NaN</td>\n",
       "      <td>NaN</td>\n",
       "      <td>NaN</td>\n",
       "    </tr>\n",
       "    <tr>\n",
       "      <th>2</th>\n",
       "      <td>Mario Kart Wii</td>\n",
       "      <td>Wii</td>\n",
       "      <td>2008.0</td>\n",
       "      <td>Racing</td>\n",
       "      <td>15.68</td>\n",
       "      <td>12.76</td>\n",
       "      <td>3.79</td>\n",
       "      <td>3.29</td>\n",
       "      <td>82.0</td>\n",
       "      <td>8.3</td>\n",
       "      <td>E</td>\n",
       "    </tr>\n",
       "    <tr>\n",
       "      <th>3</th>\n",
       "      <td>Wii Sports Resort</td>\n",
       "      <td>Wii</td>\n",
       "      <td>2009.0</td>\n",
       "      <td>Sports</td>\n",
       "      <td>15.61</td>\n",
       "      <td>10.93</td>\n",
       "      <td>3.28</td>\n",
       "      <td>2.95</td>\n",
       "      <td>80.0</td>\n",
       "      <td>8</td>\n",
       "      <td>E</td>\n",
       "    </tr>\n",
       "    <tr>\n",
       "      <th>4</th>\n",
       "      <td>Pokemon Red/Pokemon Blue</td>\n",
       "      <td>GB</td>\n",
       "      <td>1996.0</td>\n",
       "      <td>Role-Playing</td>\n",
       "      <td>11.27</td>\n",
       "      <td>8.89</td>\n",
       "      <td>10.22</td>\n",
       "      <td>1.00</td>\n",
       "      <td>NaN</td>\n",
       "      <td>NaN</td>\n",
       "      <td>NaN</td>\n",
       "    </tr>\n",
       "  </tbody>\n",
       "</table>\n",
       "</div>"
      ],
      "text/plain": [
       "                       name platform  year_of_release         genre  na_sales  \\\n",
       "0                Wii Sports      Wii           2006.0        Sports     41.36   \n",
       "1         Super Mario Bros.      NES           1985.0      Platform     29.08   \n",
       "2            Mario Kart Wii      Wii           2008.0        Racing     15.68   \n",
       "3         Wii Sports Resort      Wii           2009.0        Sports     15.61   \n",
       "4  Pokemon Red/Pokemon Blue       GB           1996.0  Role-Playing     11.27   \n",
       "\n",
       "   eu_sales  jp_sales  other_sales  critic_score user_score rating  \n",
       "0     28.96      3.77         8.45          76.0          8      E  \n",
       "1      3.58      6.81         0.77           NaN        NaN    NaN  \n",
       "2     12.76      3.79         3.29          82.0        8.3      E  \n",
       "3     10.93      3.28         2.95          80.0          8      E  \n",
       "4      8.89     10.22         1.00           NaN        NaN    NaN  "
      ]
     },
     "execution_count": 4,
     "metadata": {},
     "output_type": "execute_result"
    }
   ],
   "source": [
    "# Renombrar las columnas a minúsculas\n",
    "games_df.columns = games_df.columns.str.lower()\n",
    "\n",
    "# Mostrar las primeras filas para verificar el cambio\n",
    "games_df.head()"
   ]
  },
  {
   "cell_type": "code",
   "execution_count": 5,
   "metadata": {},
   "outputs": [
    {
     "name": "stdout",
     "output_type": "stream",
     "text": [
      "<class 'pandas.core.frame.DataFrame'>\n",
      "RangeIndex: 16715 entries, 0 to 16714\n",
      "Data columns (total 11 columns):\n",
      " #   Column           Non-Null Count  Dtype  \n",
      "---  ------           --------------  -----  \n",
      " 0   name             16713 non-null  object \n",
      " 1   platform         16715 non-null  object \n",
      " 2   year_of_release  16446 non-null  Int64  \n",
      " 3   genre            16713 non-null  object \n",
      " 4   na_sales         16715 non-null  float64\n",
      " 5   eu_sales         16715 non-null  float64\n",
      " 6   jp_sales         16715 non-null  float64\n",
      " 7   other_sales      16715 non-null  float64\n",
      " 8   critic_score     8137 non-null   float64\n",
      " 9   user_score       7590 non-null   float64\n",
      " 10  rating           9949 non-null   object \n",
      "dtypes: Int64(1), float64(6), object(4)\n",
      "memory usage: 1.4+ MB\n"
     ]
    }
   ],
   "source": [
    "games_df['year_of_release'] = games_df['year_of_release'].astype('Int64')  \n",
    "games_df['user_score'] = pd.to_numeric(games_df['user_score'], errors=\"coerce\")\n",
    "games_df.info()"
   ]
  },
  {
   "cell_type": "code",
   "execution_count": 6,
   "metadata": {},
   "outputs": [
    {
     "data": {
      "text/html": [
       "<div>\n",
       "<style scoped>\n",
       "    .dataframe tbody tr th:only-of-type {\n",
       "        vertical-align: middle;\n",
       "    }\n",
       "\n",
       "    .dataframe tbody tr th {\n",
       "        vertical-align: top;\n",
       "    }\n",
       "\n",
       "    .dataframe thead th {\n",
       "        text-align: right;\n",
       "    }\n",
       "</style>\n",
       "<table border=\"1\" class=\"dataframe\">\n",
       "  <thead>\n",
       "    <tr style=\"text-align: right;\">\n",
       "      <th></th>\n",
       "      <th>name</th>\n",
       "      <th>platform</th>\n",
       "      <th>year_of_release</th>\n",
       "      <th>genre</th>\n",
       "      <th>na_sales</th>\n",
       "      <th>eu_sales</th>\n",
       "      <th>jp_sales</th>\n",
       "      <th>other_sales</th>\n",
       "      <th>critic_score</th>\n",
       "      <th>user_score</th>\n",
       "      <th>rating</th>\n",
       "    </tr>\n",
       "  </thead>\n",
       "  <tbody>\n",
       "    <tr>\n",
       "      <th>7939</th>\n",
       "      <td>SD Gundam GX</td>\n",
       "      <td>SNES</td>\n",
       "      <td>1994</td>\n",
       "      <td>Strategy</td>\n",
       "      <td>0.00</td>\n",
       "      <td>0.00</td>\n",
       "      <td>0.19</td>\n",
       "      <td>0.00</td>\n",
       "      <td>NaN</td>\n",
       "      <td>NaN</td>\n",
       "      <td>NaN</td>\n",
       "    </tr>\n",
       "    <tr>\n",
       "      <th>103</th>\n",
       "      <td>Just Dance</td>\n",
       "      <td>Wii</td>\n",
       "      <td>2009</td>\n",
       "      <td>Misc</td>\n",
       "      <td>3.48</td>\n",
       "      <td>2.99</td>\n",
       "      <td>0.00</td>\n",
       "      <td>0.73</td>\n",
       "      <td>49.0</td>\n",
       "      <td>8.0</td>\n",
       "      <td>E10+</td>\n",
       "    </tr>\n",
       "    <tr>\n",
       "      <th>1020</th>\n",
       "      <td>Xenosaga Episode I: Der Wille zur Macht</td>\n",
       "      <td>PS2</td>\n",
       "      <td>2002</td>\n",
       "      <td>Role-Playing</td>\n",
       "      <td>0.63</td>\n",
       "      <td>0.49</td>\n",
       "      <td>0.45</td>\n",
       "      <td>0.17</td>\n",
       "      <td>83.0</td>\n",
       "      <td>8.7</td>\n",
       "      <td>T</td>\n",
       "    </tr>\n",
       "    <tr>\n",
       "      <th>15346</th>\n",
       "      <td>Higurashi Daybreak Portable Mega Edition</td>\n",
       "      <td>PSP</td>\n",
       "      <td>2009</td>\n",
       "      <td>Adventure</td>\n",
       "      <td>0.00</td>\n",
       "      <td>0.00</td>\n",
       "      <td>0.02</td>\n",
       "      <td>0.00</td>\n",
       "      <td>NaN</td>\n",
       "      <td>NaN</td>\n",
       "      <td>NaN</td>\n",
       "    </tr>\n",
       "    <tr>\n",
       "      <th>15132</th>\n",
       "      <td>Lunatic Dawn Tempest</td>\n",
       "      <td>PS2</td>\n",
       "      <td>2001</td>\n",
       "      <td>Role-Playing</td>\n",
       "      <td>0.00</td>\n",
       "      <td>0.00</td>\n",
       "      <td>0.02</td>\n",
       "      <td>0.00</td>\n",
       "      <td>NaN</td>\n",
       "      <td>NaN</td>\n",
       "      <td>NaN</td>\n",
       "    </tr>\n",
       "    <tr>\n",
       "      <th>4415</th>\n",
       "      <td>Fable</td>\n",
       "      <td>X360</td>\n",
       "      <td>2014</td>\n",
       "      <td>Role-Playing</td>\n",
       "      <td>0.25</td>\n",
       "      <td>0.15</td>\n",
       "      <td>0.01</td>\n",
       "      <td>0.04</td>\n",
       "      <td>NaN</td>\n",
       "      <td>NaN</td>\n",
       "      <td>NaN</td>\n",
       "    </tr>\n",
       "    <tr>\n",
       "      <th>9323</th>\n",
       "      <td>Little League World Series Baseball 2009</td>\n",
       "      <td>DS</td>\n",
       "      <td>2009</td>\n",
       "      <td>Sports</td>\n",
       "      <td>0.12</td>\n",
       "      <td>0.00</td>\n",
       "      <td>0.00</td>\n",
       "      <td>0.01</td>\n",
       "      <td>NaN</td>\n",
       "      <td>NaN</td>\n",
       "      <td>E</td>\n",
       "    </tr>\n",
       "    <tr>\n",
       "      <th>15245</th>\n",
       "      <td>Totally Spies! 2: Undercover</td>\n",
       "      <td>DS</td>\n",
       "      <td>2006</td>\n",
       "      <td>Action</td>\n",
       "      <td>0.01</td>\n",
       "      <td>0.01</td>\n",
       "      <td>0.00</td>\n",
       "      <td>0.00</td>\n",
       "      <td>NaN</td>\n",
       "      <td>NaN</td>\n",
       "      <td>NaN</td>\n",
       "    </tr>\n",
       "    <tr>\n",
       "      <th>12783</th>\n",
       "      <td>Girls RPG: Cinderellife</td>\n",
       "      <td>3DS</td>\n",
       "      <td>2012</td>\n",
       "      <td>Role-Playing</td>\n",
       "      <td>0.00</td>\n",
       "      <td>0.00</td>\n",
       "      <td>0.06</td>\n",
       "      <td>0.00</td>\n",
       "      <td>NaN</td>\n",
       "      <td>NaN</td>\n",
       "      <td>NaN</td>\n",
       "    </tr>\n",
       "    <tr>\n",
       "      <th>14057</th>\n",
       "      <td>Napoleon Dynamite: The Game</td>\n",
       "      <td>PSP</td>\n",
       "      <td>2007</td>\n",
       "      <td>Puzzle</td>\n",
       "      <td>0.03</td>\n",
       "      <td>0.00</td>\n",
       "      <td>0.00</td>\n",
       "      <td>0.00</td>\n",
       "      <td>37.0</td>\n",
       "      <td>4.6</td>\n",
       "      <td>E10+</td>\n",
       "    </tr>\n",
       "  </tbody>\n",
       "</table>\n",
       "</div>"
      ],
      "text/plain": [
       "                                           name platform  year_of_release  \\\n",
       "7939                               SD Gundam GX     SNES             1994   \n",
       "103                                  Just Dance      Wii             2009   \n",
       "1020    Xenosaga Episode I: Der Wille zur Macht      PS2             2002   \n",
       "15346  Higurashi Daybreak Portable Mega Edition      PSP             2009   \n",
       "15132                      Lunatic Dawn Tempest      PS2             2001   \n",
       "4415                                      Fable     X360             2014   \n",
       "9323   Little League World Series Baseball 2009       DS             2009   \n",
       "15245              Totally Spies! 2: Undercover       DS             2006   \n",
       "12783                   Girls RPG: Cinderellife      3DS             2012   \n",
       "14057               Napoleon Dynamite: The Game      PSP             2007   \n",
       "\n",
       "              genre  na_sales  eu_sales  jp_sales  other_sales  critic_score  \\\n",
       "7939       Strategy      0.00      0.00      0.19         0.00           NaN   \n",
       "103            Misc      3.48      2.99      0.00         0.73          49.0   \n",
       "1020   Role-Playing      0.63      0.49      0.45         0.17          83.0   \n",
       "15346     Adventure      0.00      0.00      0.02         0.00           NaN   \n",
       "15132  Role-Playing      0.00      0.00      0.02         0.00           NaN   \n",
       "4415   Role-Playing      0.25      0.15      0.01         0.04           NaN   \n",
       "9323         Sports      0.12      0.00      0.00         0.01           NaN   \n",
       "15245        Action      0.01      0.01      0.00         0.00           NaN   \n",
       "12783  Role-Playing      0.00      0.00      0.06         0.00           NaN   \n",
       "14057        Puzzle      0.03      0.00      0.00         0.00          37.0   \n",
       "\n",
       "       user_score rating  \n",
       "7939          NaN    NaN  \n",
       "103           8.0   E10+  \n",
       "1020          8.7      T  \n",
       "15346         NaN    NaN  \n",
       "15132         NaN    NaN  \n",
       "4415          NaN    NaN  \n",
       "9323          NaN      E  \n",
       "15245         NaN    NaN  \n",
       "12783         NaN    NaN  \n",
       "14057         4.6   E10+  "
      ]
     },
     "execution_count": 6,
     "metadata": {},
     "output_type": "execute_result"
    }
   ],
   "source": [
    "games_df.sample(10)"
   ]
  },
  {
   "cell_type": "markdown",
   "metadata": {},
   "source": [
    "1.- Cambie la columna year_of_release de float a int. Los años lanzamientos deben ser enteros, no existen fechas flotantes\n",
    "\n",
    "2.- Cambie la columna user_score de object a float. la puntuación debe ser un valor númerico para poder hacer cálculos"
   ]
  },
  {
   "cell_type": "code",
   "execution_count": 45,
   "metadata": {},
   "outputs": [
    {
     "name": "stdout",
     "output_type": "stream",
     "text": [
      "68.96767850559173\n",
      "68.96767850559173\n",
      "7.125046113306982\n",
      "7.125046113306982\n"
     ]
    }
   ],
   "source": [
    "critic_score_median = games_df[\"critic_score\"].median()\n",
    "user_score_median = games_df[\"user_score\"].median()\n",
    "print(games_df[\"critic_score\"].mean())\n",
    "print(games_df[\"critic_score\"].median())\n",
    "print(games_df[\"user_score\"].mean())\n",
    "print(games_df[\"user_score\"].median())"
   ]
  },
  {
   "cell_type": "code",
   "execution_count": 46,
   "metadata": {},
   "outputs": [],
   "source": [
    "games_df[\"critic_score\"] = games_df[\"critic_score\"].fillna(critic_score_median)\n",
    "games_df[\"user_score\"] = games_df[\"user_score\"].fillna(user_score_median)"
   ]
  },
  {
   "cell_type": "markdown",
   "metadata": {},
   "source": [
    "\n",
    "<div class=\"alert alert-block alert-danger\">\n",
    "<b>Comentario del revisor:</b> <a class=\"tocSkip\"></a>\n",
    "    \n",
    "Recuerda que cuando trabajamos con distribuciones sesgadas se recomienda completar los valores nulos con la mediana en lugar de la media\n",
    "\n",
    "</div>"
   ]
  },
  {
   "cell_type": "code",
   "execution_count": 47,
   "metadata": {},
   "outputs": [
    {
     "name": "stdout",
     "output_type": "stream",
     "text": [
      "68.96767850559173\n",
      "7.125046113306982\n"
     ]
    },
    {
     "data": {
      "text/html": [
       "<div>\n",
       "<style scoped>\n",
       "    .dataframe tbody tr th:only-of-type {\n",
       "        vertical-align: middle;\n",
       "    }\n",
       "\n",
       "    .dataframe tbody tr th {\n",
       "        vertical-align: top;\n",
       "    }\n",
       "\n",
       "    .dataframe thead th {\n",
       "        text-align: right;\n",
       "    }\n",
       "</style>\n",
       "<table border=\"1\" class=\"dataframe\">\n",
       "  <thead>\n",
       "    <tr style=\"text-align: right;\">\n",
       "      <th></th>\n",
       "      <th>name</th>\n",
       "      <th>platform</th>\n",
       "      <th>year_of_release</th>\n",
       "      <th>genre</th>\n",
       "      <th>na_sales</th>\n",
       "      <th>eu_sales</th>\n",
       "      <th>jp_sales</th>\n",
       "      <th>other_sales</th>\n",
       "      <th>critic_score</th>\n",
       "      <th>user_score</th>\n",
       "      <th>rating</th>\n",
       "      <th>total_sales</th>\n",
       "    </tr>\n",
       "  </thead>\n",
       "  <tbody>\n",
       "    <tr>\n",
       "      <th>0</th>\n",
       "      <td>Wii Sports</td>\n",
       "      <td>Wii</td>\n",
       "      <td>2006</td>\n",
       "      <td>Sports</td>\n",
       "      <td>41.36</td>\n",
       "      <td>28.96</td>\n",
       "      <td>3.77</td>\n",
       "      <td>8.45</td>\n",
       "      <td>76.000000</td>\n",
       "      <td>8.000000</td>\n",
       "      <td>E</td>\n",
       "      <td>82.54</td>\n",
       "    </tr>\n",
       "    <tr>\n",
       "      <th>1</th>\n",
       "      <td>Super Mario Bros.</td>\n",
       "      <td>NES</td>\n",
       "      <td>1985</td>\n",
       "      <td>Platform</td>\n",
       "      <td>29.08</td>\n",
       "      <td>3.58</td>\n",
       "      <td>6.81</td>\n",
       "      <td>0.77</td>\n",
       "      <td>68.967679</td>\n",
       "      <td>7.125046</td>\n",
       "      <td>NaN</td>\n",
       "      <td>40.24</td>\n",
       "    </tr>\n",
       "    <tr>\n",
       "      <th>2</th>\n",
       "      <td>Mario Kart Wii</td>\n",
       "      <td>Wii</td>\n",
       "      <td>2008</td>\n",
       "      <td>Racing</td>\n",
       "      <td>15.68</td>\n",
       "      <td>12.76</td>\n",
       "      <td>3.79</td>\n",
       "      <td>3.29</td>\n",
       "      <td>82.000000</td>\n",
       "      <td>8.300000</td>\n",
       "      <td>E</td>\n",
       "      <td>35.52</td>\n",
       "    </tr>\n",
       "    <tr>\n",
       "      <th>3</th>\n",
       "      <td>Wii Sports Resort</td>\n",
       "      <td>Wii</td>\n",
       "      <td>2009</td>\n",
       "      <td>Sports</td>\n",
       "      <td>15.61</td>\n",
       "      <td>10.93</td>\n",
       "      <td>3.28</td>\n",
       "      <td>2.95</td>\n",
       "      <td>80.000000</td>\n",
       "      <td>8.000000</td>\n",
       "      <td>E</td>\n",
       "      <td>32.77</td>\n",
       "    </tr>\n",
       "    <tr>\n",
       "      <th>4</th>\n",
       "      <td>Pokemon Red/Pokemon Blue</td>\n",
       "      <td>GB</td>\n",
       "      <td>1996</td>\n",
       "      <td>Role-Playing</td>\n",
       "      <td>11.27</td>\n",
       "      <td>8.89</td>\n",
       "      <td>10.22</td>\n",
       "      <td>1.00</td>\n",
       "      <td>68.967679</td>\n",
       "      <td>7.125046</td>\n",
       "      <td>NaN</td>\n",
       "      <td>31.38</td>\n",
       "    </tr>\n",
       "    <tr>\n",
       "      <th>5</th>\n",
       "      <td>Tetris</td>\n",
       "      <td>GB</td>\n",
       "      <td>1989</td>\n",
       "      <td>Puzzle</td>\n",
       "      <td>23.20</td>\n",
       "      <td>2.26</td>\n",
       "      <td>4.22</td>\n",
       "      <td>0.58</td>\n",
       "      <td>68.967679</td>\n",
       "      <td>7.125046</td>\n",
       "      <td>NaN</td>\n",
       "      <td>30.26</td>\n",
       "    </tr>\n",
       "    <tr>\n",
       "      <th>6</th>\n",
       "      <td>New Super Mario Bros.</td>\n",
       "      <td>DS</td>\n",
       "      <td>2006</td>\n",
       "      <td>Platform</td>\n",
       "      <td>11.28</td>\n",
       "      <td>9.14</td>\n",
       "      <td>6.50</td>\n",
       "      <td>2.88</td>\n",
       "      <td>89.000000</td>\n",
       "      <td>8.500000</td>\n",
       "      <td>E</td>\n",
       "      <td>29.80</td>\n",
       "    </tr>\n",
       "    <tr>\n",
       "      <th>7</th>\n",
       "      <td>Wii Play</td>\n",
       "      <td>Wii</td>\n",
       "      <td>2006</td>\n",
       "      <td>Misc</td>\n",
       "      <td>13.96</td>\n",
       "      <td>9.18</td>\n",
       "      <td>2.93</td>\n",
       "      <td>2.84</td>\n",
       "      <td>58.000000</td>\n",
       "      <td>6.600000</td>\n",
       "      <td>E</td>\n",
       "      <td>28.91</td>\n",
       "    </tr>\n",
       "    <tr>\n",
       "      <th>8</th>\n",
       "      <td>New Super Mario Bros. Wii</td>\n",
       "      <td>Wii</td>\n",
       "      <td>2009</td>\n",
       "      <td>Platform</td>\n",
       "      <td>14.44</td>\n",
       "      <td>6.94</td>\n",
       "      <td>4.70</td>\n",
       "      <td>2.24</td>\n",
       "      <td>87.000000</td>\n",
       "      <td>8.400000</td>\n",
       "      <td>E</td>\n",
       "      <td>28.32</td>\n",
       "    </tr>\n",
       "    <tr>\n",
       "      <th>9</th>\n",
       "      <td>Duck Hunt</td>\n",
       "      <td>NES</td>\n",
       "      <td>1984</td>\n",
       "      <td>Shooter</td>\n",
       "      <td>26.93</td>\n",
       "      <td>0.63</td>\n",
       "      <td>0.28</td>\n",
       "      <td>0.47</td>\n",
       "      <td>68.967679</td>\n",
       "      <td>7.125046</td>\n",
       "      <td>NaN</td>\n",
       "      <td>28.31</td>\n",
       "    </tr>\n",
       "  </tbody>\n",
       "</table>\n",
       "</div>"
      ],
      "text/plain": [
       "                        name platform  year_of_release         genre  \\\n",
       "0                 Wii Sports      Wii             2006        Sports   \n",
       "1          Super Mario Bros.      NES             1985      Platform   \n",
       "2             Mario Kart Wii      Wii             2008        Racing   \n",
       "3          Wii Sports Resort      Wii             2009        Sports   \n",
       "4   Pokemon Red/Pokemon Blue       GB             1996  Role-Playing   \n",
       "5                     Tetris       GB             1989        Puzzle   \n",
       "6      New Super Mario Bros.       DS             2006      Platform   \n",
       "7                   Wii Play      Wii             2006          Misc   \n",
       "8  New Super Mario Bros. Wii      Wii             2009      Platform   \n",
       "9                  Duck Hunt      NES             1984       Shooter   \n",
       "\n",
       "   na_sales  eu_sales  jp_sales  other_sales  critic_score  user_score rating  \\\n",
       "0     41.36     28.96      3.77         8.45     76.000000    8.000000      E   \n",
       "1     29.08      3.58      6.81         0.77     68.967679    7.125046    NaN   \n",
       "2     15.68     12.76      3.79         3.29     82.000000    8.300000      E   \n",
       "3     15.61     10.93      3.28         2.95     80.000000    8.000000      E   \n",
       "4     11.27      8.89     10.22         1.00     68.967679    7.125046    NaN   \n",
       "5     23.20      2.26      4.22         0.58     68.967679    7.125046    NaN   \n",
       "6     11.28      9.14      6.50         2.88     89.000000    8.500000      E   \n",
       "7     13.96      9.18      2.93         2.84     58.000000    6.600000      E   \n",
       "8     14.44      6.94      4.70         2.24     87.000000    8.400000      E   \n",
       "9     26.93      0.63      0.28         0.47     68.967679    7.125046    NaN   \n",
       "\n",
       "   total_sales  \n",
       "0        82.54  \n",
       "1        40.24  \n",
       "2        35.52  \n",
       "3        32.77  \n",
       "4        31.38  \n",
       "5        30.26  \n",
       "6        29.80  \n",
       "7        28.91  \n",
       "8        28.32  \n",
       "9        28.31  "
      ]
     },
     "execution_count": 47,
     "metadata": {},
     "output_type": "execute_result"
    }
   ],
   "source": [
    "print(games_df[\"critic_score\"].median())\n",
    "print(games_df[\"user_score\"].median())\n",
    "games_df.head(10)"
   ]
  },
  {
   "cell_type": "markdown",
   "metadata": {},
   "source": [
    "Comprobe los valores atipicos de critic_score y user_score y determine que no habian, por lo tanto rellene los valores ausentes usando la media.\n",
    "\n",
    "Para los valores de rating decidí dejarlos ausentes ya que la clasificación no es algo que yo deba decidir por mi cuenta"
   ]
  },
  {
   "cell_type": "code",
   "execution_count": 10,
   "metadata": {},
   "outputs": [
    {
     "data": {
      "text/html": [
       "<div>\n",
       "<style scoped>\n",
       "    .dataframe tbody tr th:only-of-type {\n",
       "        vertical-align: middle;\n",
       "    }\n",
       "\n",
       "    .dataframe tbody tr th {\n",
       "        vertical-align: top;\n",
       "    }\n",
       "\n",
       "    .dataframe thead th {\n",
       "        text-align: right;\n",
       "    }\n",
       "</style>\n",
       "<table border=\"1\" class=\"dataframe\">\n",
       "  <thead>\n",
       "    <tr style=\"text-align: right;\">\n",
       "      <th></th>\n",
       "      <th>name</th>\n",
       "      <th>platform</th>\n",
       "      <th>year_of_release</th>\n",
       "      <th>genre</th>\n",
       "      <th>na_sales</th>\n",
       "      <th>eu_sales</th>\n",
       "      <th>jp_sales</th>\n",
       "      <th>other_sales</th>\n",
       "      <th>critic_score</th>\n",
       "      <th>user_score</th>\n",
       "      <th>rating</th>\n",
       "      <th>total_sales</th>\n",
       "    </tr>\n",
       "  </thead>\n",
       "  <tbody>\n",
       "    <tr>\n",
       "      <th>0</th>\n",
       "      <td>Wii Sports</td>\n",
       "      <td>Wii</td>\n",
       "      <td>2006</td>\n",
       "      <td>Sports</td>\n",
       "      <td>41.36</td>\n",
       "      <td>28.96</td>\n",
       "      <td>3.77</td>\n",
       "      <td>8.45</td>\n",
       "      <td>76.000000</td>\n",
       "      <td>8.000000</td>\n",
       "      <td>E</td>\n",
       "      <td>82.54</td>\n",
       "    </tr>\n",
       "    <tr>\n",
       "      <th>1</th>\n",
       "      <td>Super Mario Bros.</td>\n",
       "      <td>NES</td>\n",
       "      <td>1985</td>\n",
       "      <td>Platform</td>\n",
       "      <td>29.08</td>\n",
       "      <td>3.58</td>\n",
       "      <td>6.81</td>\n",
       "      <td>0.77</td>\n",
       "      <td>68.967679</td>\n",
       "      <td>7.125046</td>\n",
       "      <td>NaN</td>\n",
       "      <td>40.24</td>\n",
       "    </tr>\n",
       "    <tr>\n",
       "      <th>2</th>\n",
       "      <td>Mario Kart Wii</td>\n",
       "      <td>Wii</td>\n",
       "      <td>2008</td>\n",
       "      <td>Racing</td>\n",
       "      <td>15.68</td>\n",
       "      <td>12.76</td>\n",
       "      <td>3.79</td>\n",
       "      <td>3.29</td>\n",
       "      <td>82.000000</td>\n",
       "      <td>8.300000</td>\n",
       "      <td>E</td>\n",
       "      <td>35.52</td>\n",
       "    </tr>\n",
       "    <tr>\n",
       "      <th>3</th>\n",
       "      <td>Wii Sports Resort</td>\n",
       "      <td>Wii</td>\n",
       "      <td>2009</td>\n",
       "      <td>Sports</td>\n",
       "      <td>15.61</td>\n",
       "      <td>10.93</td>\n",
       "      <td>3.28</td>\n",
       "      <td>2.95</td>\n",
       "      <td>80.000000</td>\n",
       "      <td>8.000000</td>\n",
       "      <td>E</td>\n",
       "      <td>32.77</td>\n",
       "    </tr>\n",
       "    <tr>\n",
       "      <th>4</th>\n",
       "      <td>Pokemon Red/Pokemon Blue</td>\n",
       "      <td>GB</td>\n",
       "      <td>1996</td>\n",
       "      <td>Role-Playing</td>\n",
       "      <td>11.27</td>\n",
       "      <td>8.89</td>\n",
       "      <td>10.22</td>\n",
       "      <td>1.00</td>\n",
       "      <td>68.967679</td>\n",
       "      <td>7.125046</td>\n",
       "      <td>NaN</td>\n",
       "      <td>31.38</td>\n",
       "    </tr>\n",
       "  </tbody>\n",
       "</table>\n",
       "</div>"
      ],
      "text/plain": [
       "                       name platform  year_of_release         genre  na_sales  \\\n",
       "0                Wii Sports      Wii             2006        Sports     41.36   \n",
       "1         Super Mario Bros.      NES             1985      Platform     29.08   \n",
       "2            Mario Kart Wii      Wii             2008        Racing     15.68   \n",
       "3         Wii Sports Resort      Wii             2009        Sports     15.61   \n",
       "4  Pokemon Red/Pokemon Blue       GB             1996  Role-Playing     11.27   \n",
       "\n",
       "   eu_sales  jp_sales  other_sales  critic_score  user_score rating  \\\n",
       "0     28.96      3.77         8.45     76.000000    8.000000      E   \n",
       "1      3.58      6.81         0.77     68.967679    7.125046    NaN   \n",
       "2     12.76      3.79         3.29     82.000000    8.300000      E   \n",
       "3     10.93      3.28         2.95     80.000000    8.000000      E   \n",
       "4      8.89     10.22         1.00     68.967679    7.125046    NaN   \n",
       "\n",
       "   total_sales  \n",
       "0        82.54  \n",
       "1        40.24  \n",
       "2        35.52  \n",
       "3        32.77  \n",
       "4        31.38  "
      ]
     },
     "execution_count": 10,
     "metadata": {},
     "output_type": "execute_result"
    }
   ],
   "source": [
    "# Calcular las ventas totales (la suma de las ventas en todas las regiones) para cada juego\n",
    "games_df['total_sales'] = games_df[['na_sales', 'eu_sales', 'jp_sales', 'other_sales']].sum(axis=1)\n",
    "\n",
    "# Mostrar las primeras filas para verificar el cambio\n",
    "games_df.head()"
   ]
  },
  {
   "cell_type": "markdown",
   "metadata": {},
   "source": [
    "<div class=\"alert alert-block alert-success\">\n",
    "<b>Comentario del revisor:</b> <a class=\"tocSkip\"></a>\n",
    "    \n",
    "Hola! Muy buen trabajo en la sección, ajustaste los nombres de las columnas a minúsculas con el uso de la función str.lower(), cambiaste el tipo de variable de dos de las variables de la base de datos, consideraste ajustar los valores ausentes de las variables identificadas de score y muy buen trabajo con la suma de todas las ventas. \n",
    "    \n",
    "   \n",
    "\n",
    "</div>"
   ]
  },
  {
   "cell_type": "markdown",
   "metadata": {},
   "source": [
    "## Paso 3. Analiza los datos"
   ]
  },
  {
   "cell_type": "code",
   "execution_count": 11,
   "metadata": {},
   "outputs": [
    {
     "name": "stdout",
     "output_type": "stream",
     "text": [
      "1980       9\n",
      "1981      46\n",
      "1982      36\n",
      "1983      17\n",
      "1984      14\n",
      "1985      14\n",
      "1986      21\n",
      "1987      16\n",
      "1988      15\n",
      "1989      17\n",
      "1990      16\n",
      "1991      41\n",
      "1992      43\n",
      "1993      62\n",
      "1994     121\n",
      "1995     219\n",
      "1996     263\n",
      "1997     289\n",
      "1998     379\n",
      "1999     338\n",
      "2000     350\n",
      "2001     482\n",
      "2002     829\n",
      "2003     775\n",
      "2004     762\n",
      "2005     939\n",
      "2006    1006\n",
      "2007    1197\n",
      "2008    1427\n",
      "2009    1426\n",
      "2010    1255\n",
      "2011    1136\n",
      "2012     653\n",
      "2013     544\n",
      "2014     581\n",
      "2015     606\n",
      "2016     502\n",
      "Name: year_of_release, dtype: Int64\n"
     ]
    }
   ],
   "source": [
    "games_per_year = games_df['year_of_release'].value_counts().sort_index()\n",
    "print(games_per_year)"
   ]
  },
  {
   "cell_type": "markdown",
   "metadata": {},
   "source": [
    " ¿Son significativos los datos de cada período? Si, podemos ver que hay un aumento significativo con el paso de los años y como despues empieza a ver un declive"
   ]
  },
  {
   "cell_type": "code",
   "execution_count": 12,
   "metadata": {},
   "outputs": [],
   "source": [
    "# Calcular las ventas totales para cada plataforma\n",
    "platform_sales = games_df.groupby('platform')[['na_sales', 'eu_sales', 'jp_sales', 'other_sales']].sum()\n",
    "platform_sales['total_sales'] = platform_sales.sum(axis=1)"
   ]
  },
  {
   "cell_type": "code",
   "execution_count": 13,
   "metadata": {},
   "outputs": [
    {
     "name": "stdout",
     "output_type": "stream",
     "text": [
      "          na_sales  eu_sales  jp_sales  other_sales  total_sales\n",
      "platform                                                        \n",
      "2600         90.60      5.47      0.00         0.91        96.98\n",
      "3DO           0.00      0.00      0.10         0.00         0.10\n",
      "3DS          83.49     61.48    100.67        13.36       259.00\n",
      "DC            5.43      1.69      8.56         0.27        15.95\n",
      "DS          382.40    188.89    175.57        59.26       806.12\n",
      "GB          114.32     47.82     85.12         8.20       255.46\n",
      "GBA         187.54     75.25     47.33         7.73       317.85\n",
      "GC          133.46     38.71     21.58         5.18       198.93\n",
      "GEN          21.05      6.05      2.70         0.97        30.77\n",
      "GG            0.00      0.00      0.04         0.00         0.04\n",
      "N64         139.02     41.06     34.22         4.38       218.68\n",
      "NES         125.94     21.15     98.65         5.31       251.05\n",
      "NG            0.00      0.00      1.44         0.00         1.44\n",
      "PC           94.53    142.44      0.17        22.38       259.52\n",
      "PCFX          0.00      0.00      0.03         0.00         0.03\n",
      "PS          336.52    213.61    139.82        40.91       730.86\n",
      "PS2         583.84    339.29    139.20       193.44      1255.77\n",
      "PS3         393.49    330.29     80.19       135.68       939.65\n",
      "PS4         108.74    141.09     15.96        48.35       314.14\n",
      "PSP         109.17     66.68     76.78        41.42       294.05\n",
      "PSV          12.58     13.12     21.91         6.46        54.07\n",
      "SAT           0.72      0.54     32.26         0.07        33.59\n",
      "SCD           1.00      0.36      0.45         0.05         1.86\n",
      "SNES         61.23     19.04    116.55         3.22       200.04\n",
      "TG16          0.00      0.00      0.16         0.00         0.16\n",
      "WS            0.00      0.00      1.42         0.00         1.42\n",
      "Wii         496.90    262.21     69.33        79.07       907.51\n",
      "WiiU         38.10     25.13     13.01         5.95        82.19\n",
      "X360        602.47    270.76     12.43        85.76       971.42\n",
      "XB          186.69     60.95      1.38         8.72       257.74\n",
      "XOne         93.12     51.59      0.34        14.27       159.32\n"
     ]
    }
   ],
   "source": [
    "print(platform_sales)"
   ]
  },
  {
   "cell_type": "code",
   "execution_count": 14,
   "metadata": {},
   "outputs": [
    {
     "name": "stdout",
     "output_type": "stream",
     "text": [
      "          na_sales  eu_sales  jp_sales  other_sales  total_sales\n",
      "platform                                                        \n",
      "PS2         583.84    339.29    139.20       193.44      1255.77\n",
      "X360        602.47    270.76     12.43        85.76       971.42\n",
      "PS3         393.49    330.29     80.19       135.68       939.65\n",
      "Wii         496.90    262.21     69.33        79.07       907.51\n",
      "DS          382.40    188.89    175.57        59.26       806.12\n",
      "PS          336.52    213.61    139.82        40.91       730.86\n",
      "GBA         187.54     75.25     47.33         7.73       317.85\n",
      "PS4         108.74    141.09     15.96        48.35       314.14\n",
      "PSP         109.17     66.68     76.78        41.42       294.05\n",
      "PC           94.53    142.44      0.17        22.38       259.52\n"
     ]
    }
   ],
   "source": [
    "# Elegir las plataformas con las mayores ventas totales\n",
    "top_platforms = platform_sales.sort_values('total_sales', ascending=False).head(10)\n",
    "print(top_platforms)"
   ]
  },
  {
   "cell_type": "code",
   "execution_count": 15,
   "metadata": {},
   "outputs": [
    {
     "name": "stdout",
     "output_type": "stream",
     "text": [
      "['PS2', 'X360', 'PS3', 'Wii', 'DS', 'PS', 'GBA', 'PS4', 'PSP', 'PC']\n",
      "                                                   name platform  \\\n",
      "0                                            Wii Sports      Wii   \n",
      "2                                        Mario Kart Wii      Wii   \n",
      "3                                     Wii Sports Resort      Wii   \n",
      "6                                 New Super Mario Bros.       DS   \n",
      "7                                              Wii Play      Wii   \n",
      "...                                                 ...      ...   \n",
      "16708                Woody Woodpecker in Crazy Castle 5      GBA   \n",
      "16709  SCORE International Baja 1000: The Official Game      PS2   \n",
      "16710                     Samurai Warriors: Sanada Maru      PS3   \n",
      "16711                                  LMA Manager 2007     X360   \n",
      "16713                                  Spirits & Spells      GBA   \n",
      "\n",
      "       year_of_release     genre  na_sales  eu_sales  jp_sales  other_sales  \\\n",
      "0                 2006    Sports     41.36     28.96      3.77         8.45   \n",
      "2                 2008    Racing     15.68     12.76      3.79         3.29   \n",
      "3                 2009    Sports     15.61     10.93      3.28         2.95   \n",
      "6                 2006  Platform     11.28      9.14      6.50         2.88   \n",
      "7                 2006      Misc     13.96      9.18      2.93         2.84   \n",
      "...                ...       ...       ...       ...       ...          ...   \n",
      "16708             2002  Platform      0.01      0.00      0.00         0.00   \n",
      "16709             2008    Racing      0.00      0.00      0.00         0.00   \n",
      "16710             2016    Action      0.00      0.00      0.01         0.00   \n",
      "16711             2006    Sports      0.00      0.01      0.00         0.00   \n",
      "16713             2003  Platform      0.01      0.00      0.00         0.00   \n",
      "\n",
      "       critic_score  user_score rating  total_sales  \n",
      "0         76.000000    8.000000      E        82.54  \n",
      "2         82.000000    8.300000      E        35.52  \n",
      "3         80.000000    8.000000      E        32.77  \n",
      "6         89.000000    8.500000      E        29.80  \n",
      "7         58.000000    6.600000      E        28.91  \n",
      "...             ...         ...    ...          ...  \n",
      "16708     68.967679    7.125046    NaN         0.01  \n",
      "16709     68.967679    7.125046    NaN         0.00  \n",
      "16710     68.967679    7.125046    NaN         0.01  \n",
      "16711     68.967679    7.125046    NaN         0.01  \n",
      "16713     68.967679    7.125046    NaN         0.01  \n",
      "\n",
      "[12819 rows x 12 columns]\n"
     ]
    }
   ],
   "source": [
    "top_platform_names = top_platforms.index.tolist()\n",
    "top_platforms_data = games_df[games_df['platform'].isin(top_platform_names)]\n",
    "print(top_platform_names)\n",
    "print(top_platforms_data)"
   ]
  },
  {
   "cell_type": "code",
   "execution_count": 16,
   "metadata": {},
   "outputs": [],
   "source": [
    "# Agrupar las ventas por año y plataforma\n",
    "sales_by_year_platform = top_platforms_data.groupby(['year_of_release', 'platform'])[['na_sales', 'eu_sales', 'jp_sales', 'other_sales']].sum()\n",
    "sales_by_year_platform['total_sales'] = sales_by_year_platform[['na_sales', 'eu_sales', 'jp_sales', 'other_sales']].sum(axis=1)\n"
   ]
  },
  {
   "cell_type": "code",
   "execution_count": 17,
   "metadata": {},
   "outputs": [
    {
     "data": {
      "text/plain": [
       "<Figure size 1400x800 with 0 Axes>"
      ]
     },
     "metadata": {},
     "output_type": "display_data"
    },
    {
     "data": {
      "image/png": "[encoded data removed]",
      "text/plain": [
       "<Figure size 640x480 with 1 Axes>"
      ]
     },
     "metadata": {},
     "output_type": "display_data"
    }
   ],
   "source": [
    "# Pivote para una mejor visualización\n",
    "sales_by_year_platform_pivot = sales_by_year_platform['total_sales'].unstack(level=1)\n",
    "\n",
    "# Plotear las ventas por año para las plataformas principales\n",
    "plt.figure(figsize=(14, 8))\n",
    "sales_by_year_platform_pivot.plot(kind='line')\n",
    "plt.title('Ventas Totales por Año para las Principales Plataformas')\n",
    "plt.xlabel('Año')\n",
    "plt.ylabel('Ventas Totales (millones)')\n",
    "plt.legend(title='Plataforma')\n",
    "plt.grid(True)\n",
    "plt.show()"
   ]
  },
  {
   "cell_type": "markdown",
   "metadata": {},
   "source": [
    "<div class=\"alert alert-block alert-warning\">\n",
    "<b>Comentario del revisor</b> <a class=\"tocSkip\"></a>\n",
    "    \n",
    "Gran trabajo con el desarrollo de la gráfica. Solamente te recomendaría que intentes reducir el periodo dado que el perido actual puede resultar muy extenso. Recordemos que con base en la información la popularidad la alcanzan en los primeros años. Es por ello que con un periodo largo puede no ser posible analizar de forma clara las plataformas y videojuegos actualizados y podrías estar analizando los desactualizados. Es por ello y dado que buscamos responder qué vender en 2017 te recomendareia gráficar un periodo que no supere los 5 años.     \n",
    "\n",
    "</div>"
   ]
  },
  {
   "cell_type": "markdown",
   "metadata": {},
   "source": [
    "Las consolas suelen tener una duración de 10 años"
   ]
  },
  {
   "cell_type": "code",
   "execution_count": 18,
   "metadata": {},
   "outputs": [
    {
     "data": {
      "text/html": [
       "<div>\n",
       "<style scoped>\n",
       "    .dataframe tbody tr th:only-of-type {\n",
       "        vertical-align: middle;\n",
       "    }\n",
       "\n",
       "    .dataframe tbody tr th {\n",
       "        vertical-align: top;\n",
       "    }\n",
       "\n",
       "    .dataframe thead th {\n",
       "        text-align: right;\n",
       "    }\n",
       "</style>\n",
       "<table border=\"1\" class=\"dataframe\">\n",
       "  <thead>\n",
       "    <tr style=\"text-align: right;\">\n",
       "      <th></th>\n",
       "      <th>min</th>\n",
       "      <th>max</th>\n",
       "      <th>duration</th>\n",
       "    </tr>\n",
       "    <tr>\n",
       "      <th>platform</th>\n",
       "      <th></th>\n",
       "      <th></th>\n",
       "      <th></th>\n",
       "    </tr>\n",
       "  </thead>\n",
       "  <tbody>\n",
       "    <tr>\n",
       "      <th>DS</th>\n",
       "      <td>1985</td>\n",
       "      <td>2013</td>\n",
       "      <td>28</td>\n",
       "    </tr>\n",
       "    <tr>\n",
       "      <th>GBA</th>\n",
       "      <td>2000</td>\n",
       "      <td>2007</td>\n",
       "      <td>7</td>\n",
       "    </tr>\n",
       "    <tr>\n",
       "      <th>PS</th>\n",
       "      <td>1994</td>\n",
       "      <td>2003</td>\n",
       "      <td>9</td>\n",
       "    </tr>\n",
       "    <tr>\n",
       "      <th>PS2</th>\n",
       "      <td>2000</td>\n",
       "      <td>2011</td>\n",
       "      <td>11</td>\n",
       "    </tr>\n",
       "    <tr>\n",
       "      <th>PSP</th>\n",
       "      <td>2004</td>\n",
       "      <td>2015</td>\n",
       "      <td>11</td>\n",
       "    </tr>\n",
       "  </tbody>\n",
       "</table>\n",
       "</div>"
      ],
      "text/plain": [
       "           min   max  duration\n",
       "platform                      \n",
       "DS        1985  2013        28\n",
       "GBA       2000  2007         7\n",
       "PS        1994  2003         9\n",
       "PS2       2000  2011        11\n",
       "PSP       2004  2015        11"
      ]
     },
     "execution_count": 18,
     "metadata": {},
     "output_type": "execute_result"
    }
   ],
   "source": [
    "\n",
    "# Identificar las plataformas que solían ser populares pero que ahora no tienen ventas\n",
    "current_year = games_df['year_of_release'].max()\n",
    "popular_past_platforms = sales_by_year_platform_pivot.columns[sales_by_year_platform_pivot.loc[current_year].isna() & sales_by_year_platform_pivot.notna().any()]\n",
    "\n",
    "# Determinar la duración de la aparición y desaparición de plataformas\n",
    "platform_lifetimes = games_df.groupby('platform')['year_of_release'].agg(['min', 'max'])\n",
    "platform_lifetimes['duration'] = platform_lifetimes['max'] - platform_lifetimes['min']\n",
    "\n",
    "# Mostrar las plataformas populares en el pasado pero que ya no tienen ventas\n",
    "popular_past_platforms_list = popular_past_platforms.tolist()\n",
    "platform_lifetimes.loc[popular_past_platforms_list]"
   ]
  },
  {
   "cell_type": "code",
   "execution_count": 48,
   "metadata": {},
   "outputs": [
    {
     "name": "stdout",
     "output_type": "stream",
     "text": [
      "['PS4', 'PS3', 'X360', '3DS', 'XOne', 'WiiU', 'PC', 'PSV', 'Wii', 'DS']\n"
     ]
    }
   ],
   "source": [
    "# Calcular las ventas totales por plataforma a partir de 2012\n",
    "filtered_games_df = games_df[games_df['year_of_release'] >= 2012]\n",
    "platform_sales_since_2012 = filtered_games_df.groupby('platform')[['na_sales', 'eu_sales', 'jp_sales', 'other_sales']].sum()\n",
    "platform_sales_since_2012['total_sales'] = platform_sales_since_2012.sum(axis=1)\n",
    "\n",
    "\n",
    "# Ordenar las plataformas por ventas totales en orden descendente\n",
    "platform_sales_sorted = platform_sales_since_2012.sort_values('total_sales', ascending=False)\n",
    "\n",
    "# Seleccionar las principales plataformas en términos de ventas totales\n",
    "top_platforms_names = platform_sales_sorted.head(10).index.tolist()\n",
    "print(top_platforms_names)"
   ]
  },
  {
   "cell_type": "code",
   "execution_count": 49,
   "metadata": {},
   "outputs": [
    {
     "name": "stdout",
     "output_type": "stream",
     "text": [
      "year_of_release  platform\n",
      "2012             3DS          51.36\n",
      "                 DS           11.01\n",
      "                 PC           23.22\n",
      "                 PS3         107.36\n",
      "                 PSV          16.19\n",
      "                 Wii          21.71\n",
      "                 WiiU         17.56\n",
      "                 X360         99.74\n",
      "2013             3DS          56.57\n",
      "                 DS            1.54\n",
      "                 PC           12.38\n",
      "                 PS3         113.25\n",
      "                 PS4          25.99\n",
      "                 PSV          10.59\n",
      "                 Wii           8.59\n",
      "                 WiiU         21.65\n",
      "                 X360         88.58\n",
      "                 XOne         18.96\n",
      "2014             3DS          43.76\n",
      "                 PC           13.28\n",
      "                 PS3          47.76\n",
      "                 PS4         100.00\n",
      "                 PSV          11.90\n",
      "                 Wii           3.75\n",
      "                 WiiU         22.03\n",
      "                 X360         34.74\n",
      "                 XOne         54.07\n",
      "2015             3DS          27.78\n",
      "                 PC            8.52\n",
      "                 PS3          16.82\n",
      "                 PS4         118.90\n",
      "                 PSV           6.25\n",
      "                 Wii           1.14\n",
      "                 WiiU         16.35\n",
      "                 X360         11.96\n",
      "                 XOne         60.14\n",
      "2016             3DS          15.14\n",
      "                 PC            5.25\n",
      "                 PS3           3.60\n",
      "                 PS4          69.25\n",
      "                 PSV           4.25\n",
      "                 Wii           0.18\n",
      "                 WiiU          4.60\n",
      "                 X360          1.52\n",
      "                 XOne         26.15\n",
      "Name: total_sales, dtype: float64\n"
     ]
    }
   ],
   "source": [
    "\n",
    "# Filtrar los datos para las plataformas principales\n",
    "top_platforms_data = filtered_games_df[filtered_games_df['platform'].isin(top_platforms_names)]\n",
    "\n",
    "# Agrupar las ventas por año y plataforma\n",
    "sales_by_year_platform = top_platforms_data.groupby(['year_of_release', 'platform'])[['na_sales', 'eu_sales', 'jp_sales', 'other_sales']].sum()\n",
    "sales_by_year_platform['total_sales'] = sales_by_year_platform[['na_sales', 'eu_sales', 'jp_sales', 'other_sales']].sum(axis=1)\n",
    "print(sales_by_year_platform[\"total_sales\"])"
   ]
  },
  {
   "cell_type": "code",
   "execution_count": 50,
   "metadata": {},
   "outputs": [
    {
     "data": {
      "text/plain": [
       "<Figure size 1400x800 with 0 Axes>"
      ]
     },
     "metadata": {},
     "output_type": "display_data"
    },
    {
     "data": {
      "image/png": "[encoded data removed]",
      "text/plain": [
       "<Figure size 640x480 with 1 Axes>"
      ]
     },
     "metadata": {},
     "output_type": "display_data"
    }
   ],
   "source": [
    "# Pivote para una mejor visualización\n",
    "sales_by_year_platform_pivot = sales_by_year_platform['total_sales'].unstack(level=1)\n",
    "\n",
    "# Graficar las ventas por año para las plataformas principales\n",
    "plt.figure(figsize=(14, 8))\n",
    "sales_by_year_platform_pivot.plot(kind='line')\n",
    "plt.title('Ventas Totales por Año para las Principales Plataformas desde 2005')\n",
    "plt.xlabel('Año')\n",
    "plt.ylabel('Ventas Totales (millones)')\n",
    "plt.legend(title='Plataforma')\n",
    "plt.grid(True)\n",
    "plt.show()\n"
   ]
  },
  {
   "cell_type": "code",
   "execution_count": 51,
   "metadata": {},
   "outputs": [
    {
     "data": {
      "text/html": [
       "<div>\n",
       "<style scoped>\n",
       "    .dataframe tbody tr th:only-of-type {\n",
       "        vertical-align: middle;\n",
       "    }\n",
       "\n",
       "    .dataframe tbody tr th {\n",
       "        vertical-align: top;\n",
       "    }\n",
       "\n",
       "    .dataframe thead th {\n",
       "        text-align: right;\n",
       "    }\n",
       "</style>\n",
       "<table border=\"1\" class=\"dataframe\">\n",
       "  <thead>\n",
       "    <tr style=\"text-align: right;\">\n",
       "      <th></th>\n",
       "      <th>na_sales</th>\n",
       "      <th>eu_sales</th>\n",
       "      <th>jp_sales</th>\n",
       "      <th>other_sales</th>\n",
       "      <th>total_sales</th>\n",
       "    </tr>\n",
       "    <tr>\n",
       "      <th>platform</th>\n",
       "      <th></th>\n",
       "      <th></th>\n",
       "      <th></th>\n",
       "      <th></th>\n",
       "      <th></th>\n",
       "    </tr>\n",
       "  </thead>\n",
       "  <tbody>\n",
       "    <tr>\n",
       "      <th>PS4</th>\n",
       "      <td>108.74</td>\n",
       "      <td>141.09</td>\n",
       "      <td>15.96</td>\n",
       "      <td>48.35</td>\n",
       "      <td>314.14</td>\n",
       "    </tr>\n",
       "    <tr>\n",
       "      <th>PS3</th>\n",
       "      <td>103.38</td>\n",
       "      <td>106.86</td>\n",
       "      <td>35.29</td>\n",
       "      <td>43.26</td>\n",
       "      <td>288.79</td>\n",
       "    </tr>\n",
       "    <tr>\n",
       "      <th>X360</th>\n",
       "      <td>140.05</td>\n",
       "      <td>74.52</td>\n",
       "      <td>1.57</td>\n",
       "      <td>20.40</td>\n",
       "      <td>236.54</td>\n",
       "    </tr>\n",
       "    <tr>\n",
       "      <th>3DS</th>\n",
       "      <td>55.31</td>\n",
       "      <td>42.64</td>\n",
       "      <td>87.79</td>\n",
       "      <td>8.87</td>\n",
       "      <td>194.61</td>\n",
       "    </tr>\n",
       "    <tr>\n",
       "      <th>XOne</th>\n",
       "      <td>93.12</td>\n",
       "      <td>51.59</td>\n",
       "      <td>0.34</td>\n",
       "      <td>14.27</td>\n",
       "      <td>159.32</td>\n",
       "    </tr>\n",
       "    <tr>\n",
       "      <th>WiiU</th>\n",
       "      <td>38.10</td>\n",
       "      <td>25.13</td>\n",
       "      <td>13.01</td>\n",
       "      <td>5.95</td>\n",
       "      <td>82.19</td>\n",
       "    </tr>\n",
       "    <tr>\n",
       "      <th>PC</th>\n",
       "      <td>19.12</td>\n",
       "      <td>37.76</td>\n",
       "      <td>0.00</td>\n",
       "      <td>5.77</td>\n",
       "      <td>62.65</td>\n",
       "    </tr>\n",
       "    <tr>\n",
       "      <th>PSV</th>\n",
       "      <td>10.98</td>\n",
       "      <td>11.36</td>\n",
       "      <td>21.04</td>\n",
       "      <td>5.80</td>\n",
       "      <td>49.18</td>\n",
       "    </tr>\n",
       "    <tr>\n",
       "      <th>Wii</th>\n",
       "      <td>17.45</td>\n",
       "      <td>11.92</td>\n",
       "      <td>3.39</td>\n",
       "      <td>2.61</td>\n",
       "      <td>35.37</td>\n",
       "    </tr>\n",
       "    <tr>\n",
       "      <th>DS</th>\n",
       "      <td>4.59</td>\n",
       "      <td>3.53</td>\n",
       "      <td>3.72</td>\n",
       "      <td>0.71</td>\n",
       "      <td>12.55</td>\n",
       "    </tr>\n",
       "  </tbody>\n",
       "</table>\n",
       "</div>"
      ],
      "text/plain": [
       "          na_sales  eu_sales  jp_sales  other_sales  total_sales\n",
       "platform                                                        \n",
       "PS4         108.74    141.09     15.96        48.35       314.14\n",
       "PS3         103.38    106.86     35.29        43.26       288.79\n",
       "X360        140.05     74.52      1.57        20.40       236.54\n",
       "3DS          55.31     42.64     87.79         8.87       194.61\n",
       "XOne         93.12     51.59      0.34        14.27       159.32\n",
       "WiiU         38.10     25.13     13.01         5.95        82.19\n",
       "PC           19.12     37.76      0.00         5.77        62.65\n",
       "PSV          10.98     11.36     21.04         5.80        49.18\n",
       "Wii          17.45     11.92      3.39         2.61        35.37\n",
       "DS            4.59      3.53      3.72         0.71        12.55"
      ]
     },
     "execution_count": 51,
     "metadata": {},
     "output_type": "execute_result"
    }
   ],
   "source": [
    "# Mostrar las plataformas principales con sus ventas totales\n",
    "platform_sales_sorted.head(10)"
   ]
  },
  {
   "cell_type": "code",
   "execution_count": 52,
   "metadata": {},
   "outputs": [
    {
     "data": {
      "image/png": "[encoded data removed]",
      "text/plain": [
       "<Figure size 1400x800 with 1 Axes>"
      ]
     },
     "metadata": {},
     "output_type": "display_data"
    },
    {
     "data": {
      "text/plain": [
       "platform\n",
       "X360    0.810068\n",
       "PS4     0.801378\n",
       "Wii     0.655000\n",
       "XOne    0.645020\n",
       "PS3     0.585781\n",
       "WiiU    0.559116\n",
       "3DS     0.491439\n",
       "DS      0.404839\n",
       "PC      0.250600\n",
       "PSV     0.119659\n",
       "PSP     0.064682\n",
       "Name: total_sales, dtype: float64"
      ]
     },
     "execution_count": 52,
     "metadata": {},
     "output_type": "execute_result"
    }
   ],
   "source": [
    "# Crear un diagrama de caja para las ventas globales de todos los juegos, desglosados por plataforma\n",
    "plt.figure(figsize=(14, 8))\n",
    "sns.boxplot(x='platform', y='total_sales', data=filtered_games_df)\n",
    "plt.title('Diagrama de Caja de Ventas Globales por Plataforma (2005 en adelante)')\n",
    "plt.xlabel('Plataforma')\n",
    "plt.ylabel('Ventas Globales (millones)')\n",
    "plt.xticks(rotation=90)\n",
    "plt.grid(True)\n",
    "plt.show()\n",
    "\n",
    "# Calcular las ventas promedio por plataforma\n",
    "average_sales_by_platform = filtered_games_df.groupby('platform')['total_sales'].mean().sort_values(ascending=False)\n",
    "average_sales_by_platform"
   ]
  },
  {
   "cell_type": "markdown",
   "metadata": {},
   "source": [
    "<div class=\"alert alert-block alert-warning\">\n",
    "    <b>Comentario del revisor</b> <a class=\"tocSkip\"></a>\n",
    "    \n",
    "Recuerda que los graficos de box-plot nos ayudan a identificar outliers que posteriomente en el desarrollo de las pruebas de hipótesis nos servirían eliminar para que no puedan sesgar nuestros resultados. \n",
    "</div>"
   ]
  },
  {
   "cell_type": "markdown",
   "metadata": {},
   "source": [
    "Las diferencias en las ventas entre las plataformas son significativas, especialmente entre las consolas de última generación y las más antiguas. \n",
    "\n",
    "Las plataformas PS4, X360, y PS3 son las líderes en términos de ventas promedio por juego."
   ]
  },
  {
   "cell_type": "code",
   "execution_count": 53,
   "metadata": {},
   "outputs": [],
   "source": [
    "# Filtrar los datos para la plataforma Wii\n",
    "wii_data = filtered_games_df[filtered_games_df['platform'] == 'Wii']\n"
   ]
  },
  {
   "cell_type": "code",
   "execution_count": 54,
   "metadata": {},
   "outputs": [
    {
     "data": {
      "image/png": "[encoded data removed]",
      "text/plain": [
       "<Figure size 1400x800 with 1 Axes>"
      ]
     },
     "metadata": {},
     "output_type": "display_data"
    }
   ],
   "source": [
    "# Crear un gráfico de dispersión entre las reseñas y las ventas\n",
    "plt.figure(figsize=(14, 8))\n",
    "plt.scatter(wii_data['critic_score'], wii_data['total_sales'], label='Critic Score', alpha=0.6)\n",
    "plt.scatter(wii_data['user_score'], wii_data['total_sales'], label='User Score', alpha=0.6)\n",
    "plt.title('Gráfico de Dispersión entre Reseñas y Ventas para Wii')\n",
    "plt.xlabel('Score')\n",
    "plt.ylabel('Ventas Totales (millones)')\n",
    "plt.legend()\n",
    "plt.grid(True)\n",
    "plt.show()\n",
    "\n"
   ]
  },
  {
   "cell_type": "markdown",
   "metadata": {},
   "source": [
    "<div class=\"alert alert-block alert-success\">\n",
    "    <b>Comentario del revisor</b> <a class=\"tocSkip\"></a>\n",
    "    \n",
    "Muy buen trabajo con el análisis de la relación estre las scores y las ventas. \n",
    "</div>"
   ]
  },
  {
   "cell_type": "code",
   "execution_count": 55,
   "metadata": {},
   "outputs": [
    {
     "data": {
      "text/plain": [
       "(0.3799196266433455, -0.019465400388616393)"
      ]
     },
     "execution_count": 55,
     "metadata": {},
     "output_type": "execute_result"
    }
   ],
   "source": [
    "# Calcular la correlación entre las reseñas y las ventas\n",
    "correlation_critic = wii_data[['critic_score', 'total_sales']].corr().iloc[0, 1]\n",
    "correlation_user = wii_data[['user_score', 'total_sales']].corr().iloc[0, 1]\n",
    "\n",
    "correlation_critic, correlation_user\n"
   ]
  },
  {
   "cell_type": "code",
   "execution_count": 56,
   "metadata": {},
   "outputs": [],
   "source": [
    "#Comparar con otra plataforma (PS4)\n",
    "\n",
    "ps4_data = filtered_games_df[filtered_games_df['platform'] == 'PS4']\n"
   ]
  },
  {
   "cell_type": "code",
   "execution_count": 57,
   "metadata": {},
   "outputs": [
    {
     "data": {
      "image/png": "[encoded data removed]",
      "text/plain": [
       "<Figure size 1400x800 with 1 Axes>"
      ]
     },
     "metadata": {},
     "output_type": "display_data"
    }
   ],
   "source": [
    "# Crear un gráfico de dispersión entre las reseñas y las ventas\n",
    "plt.figure(figsize=(14, 8))\n",
    "plt.scatter(ps4_data['critic_score'], ps4_data['total_sales'], label='Critic Score', alpha=0.6)\n",
    "plt.scatter(ps4_data['user_score'], ps4_data['total_sales'], label='User Score', alpha=0.6)\n",
    "plt.title('Gráfico de Dispersión entre Reseñas y Ventas para PS4')\n",
    "plt.xlabel('Score')\n",
    "plt.ylabel('Ventas Totales (millones)')\n",
    "plt.legend()\n",
    "plt.grid(True)\n",
    "plt.show()\n",
    "\n"
   ]
  },
  {
   "cell_type": "code",
   "execution_count": 58,
   "metadata": {},
   "outputs": [
    {
     "data": {
      "text/plain": [
       "(0.34900958029245843, -0.04539086100332348)"
      ]
     },
     "execution_count": 58,
     "metadata": {},
     "output_type": "execute_result"
    }
   ],
   "source": [
    "# Calcular la correlación entre las reseñas y las ventas\n",
    "correlation_critic = ps4_data[['critic_score', 'total_sales']].corr().iloc[0, 1]\n",
    "correlation_user = ps4_data[['user_score', 'total_sales']].corr().iloc[0, 1]\n",
    "\n",
    "correlation_critic, correlation_user"
   ]
  },
  {
   "cell_type": "code",
   "execution_count": 59,
   "metadata": {},
   "outputs": [
    {
     "data": {
      "text/plain": [
       "Action          3369\n",
       "Sports          2348\n",
       "Misc            1750\n",
       "Role-Playing    1498\n",
       "Shooter         1323\n",
       "Adventure       1303\n",
       "Racing          1249\n",
       "Platform         888\n",
       "Simulation       873\n",
       "Fighting         849\n",
       "Strategy         683\n",
       "Puzzle           580\n",
       "Name: genre, dtype: int64"
      ]
     },
     "execution_count": 59,
     "metadata": {},
     "output_type": "execute_result"
    }
   ],
   "source": [
    "genre_distribution = games_df['genre'].value_counts()\n",
    "\n",
    "genre_distribution"
   ]
  },
  {
   "cell_type": "code",
   "execution_count": 60,
   "metadata": {},
   "outputs": [
    {
     "data": {
      "image/png": "[encoded data removed]",
      "text/plain": [
       "<Figure size 1200x600 with 1 Axes>"
      ]
     },
     "metadata": {},
     "output_type": "display_data"
    }
   ],
   "source": [
    "plt.figure(figsize=(12, 6))\n",
    "genre_distribution.plot(kind='bar', color='skyblue')\n",
    "plt.title('Distribution of Games by Genre')\n",
    "plt.xlabel('Genre')\n",
    "plt.ylabel('Number of Games')\n",
    "plt.xticks(rotation=45)\n",
    "plt.show()\n",
    "\n",
    "\n"
   ]
  },
  {
   "cell_type": "code",
   "execution_count": 61,
   "metadata": {},
   "outputs": [],
   "source": [
    "# Calcular total de ventas por genero\n",
    "#games_df['total_sales'] = games_df['na_sales'] + games_df['eu_sales'] + games_df['jp_sales'] + games_df['other_sales']\n",
    "genre_sales = games_df.groupby('genre')['total_sales'].sum().sort_values(ascending=False)\n",
    "\n"
   ]
  },
  {
   "cell_type": "code",
   "execution_count": 62,
   "metadata": {},
   "outputs": [
    {
     "data": {
      "image/png": "[encoded data removed]",
      "text/plain": [
       "<Figure size 1200x600 with 1 Axes>"
      ]
     },
     "metadata": {},
     "output_type": "display_data"
    }
   ],
   "source": [
    "plt.figure(figsize=(12, 6))\n",
    "genre_sales.plot(kind='bar', color='green')\n",
    "plt.title('Total Sales by Genre')\n",
    "plt.xlabel('Genre')\n",
    "plt.ylabel('Total Sales (in millions)')\n",
    "plt.xticks(rotation=45)\n",
    "plt.show()\n",
    "\n"
   ]
  },
  {
   "cell_type": "code",
   "execution_count": 63,
   "metadata": {},
   "outputs": [
    {
     "data": {
      "text/plain": [
       "(genre\n",
       " Action          1744.17\n",
       " Sports          1331.27\n",
       " Shooter         1052.45\n",
       " Role-Playing     934.56\n",
       " Platform         827.77\n",
       " Name: total_sales, dtype: float64,\n",
       " genre\n",
       " Fighting      447.53\n",
       " Simulation    389.97\n",
       " Puzzle        242.57\n",
       " Adventure     237.59\n",
       " Strategy      174.23\n",
       " Name: total_sales, dtype: float64)"
      ]
     },
     "execution_count": 63,
     "metadata": {},
     "output_type": "execute_result"
    }
   ],
   "source": [
    "\n",
    "high_sales_genres = genre_sales.head(5)\n",
    "low_sales_genres = genre_sales.tail(5)\n",
    "\n",
    "high_sales_genres, low_sales_genres"
   ]
  },
  {
   "cell_type": "markdown",
   "metadata": {},
   "source": [
    "Los juegos con más ventas estan más orientados a la acción"
   ]
  },
  {
   "cell_type": "markdown",
   "metadata": {},
   "source": [
    "# Paso 4. Crea un perfil de usuario para cada región"
   ]
  },
  {
   "cell_type": "code",
   "execution_count": 64,
   "metadata": {},
   "outputs": [],
   "source": [
    "#Plataformas por región\n",
    "platform_sales_na = games_df.groupby('platform')['na_sales'].sum().sort_values(ascending=False)\n",
    "platform_sales_eu = games_df.groupby('platform')['eu_sales'].sum().sort_values(ascending=False)\n",
    "platform_sales_jp = games_df.groupby('platform')['jp_sales'].sum().sort_values(ascending=False)\n",
    "\n"
   ]
  },
  {
   "cell_type": "code",
   "execution_count": 65,
   "metadata": {},
   "outputs": [],
   "source": [
    "# Calcular el top 5\n",
    "top_5_platforms_na = platform_sales_na.head(5)\n",
    "top_5_platforms_eu = platform_sales_eu.head(5)\n",
    "top_5_platforms_jp = platform_sales_jp.head(5)\n",
    "\n"
   ]
  },
  {
   "cell_type": "code",
   "execution_count": 66,
   "metadata": {},
   "outputs": [
    {
     "name": "stdout",
     "output_type": "stream",
     "text": [
      "          na_market_share  eu_market_share  jp_market_share\n",
      "platform                                                   \n",
      "3DS              0.000000         0.000000        14.984892\n",
      "DS              15.550405         0.000000        26.133877\n",
      "PS               0.000000        15.083748        20.812432\n",
      "PS2             23.742019        23.958451        20.720144\n",
      "PS3             16.001383        23.322930         0.000000\n",
      "SNES             0.000000         0.000000        17.348655\n",
      "Wii             20.206580        18.515563         0.000000\n",
      "X360            24.499614        19.119309         0.000000\n"
     ]
    }
   ],
   "source": [
    "#Crear un nuevo DF de las plataformas\n",
    "top_platforms_df = pd.DataFrame({\n",
    "    'na_sales': top_5_platforms_na,\n",
    "    'eu_sales': top_5_platforms_eu,\n",
    "    'jp_sales': top_5_platforms_jp\n",
    "}).fillna(0)\n",
    "\n",
    "#Obtener los porcentajes\n",
    "top_platforms_df['na_market_share'] = top_platforms_df['na_sales'] / top_platforms_df['na_sales'].sum() * 100\n",
    "top_platforms_df['eu_market_share'] = top_platforms_df['eu_sales'] / top_platforms_df['eu_sales'].sum() * 100\n",
    "top_platforms_df['jp_market_share'] = top_platforms_df['jp_sales'] / top_platforms_df['jp_sales'].sum() * 100\n",
    "\n",
    "top_platforms_df = top_platforms_df[['na_market_share', 'eu_market_share', 'jp_market_share']]\n",
    "\n",
    "print(top_platforms_df)"
   ]
  },
  {
   "cell_type": "markdown",
   "metadata": {},
   "source": [
    "Norte america y Europa tienen tops de plataformas similares, Japónm muestra diferente comportamiento inclinandose por consolas más viejas"
   ]
  },
  {
   "cell_type": "code",
   "execution_count": 38,
   "metadata": {},
   "outputs": [],
   "source": [
    "genres_sales_na = games_df.groupby(\"genre\")[\"na_sales\"].sum().sort_values(ascending=False)\n",
    "genres_sales_eu = games_df.groupby(\"genre\")[\"eu_sales\"].sum().sort_values(ascending=False)\n",
    "genres_sales_jp = games_df.groupby(\"genre\")[\"jp_sales\"].sum().sort_values(ascending=False)"
   ]
  },
  {
   "cell_type": "code",
   "execution_count": 39,
   "metadata": {},
   "outputs": [],
   "source": [
    "top_5_genres_na = genres_sales_na.head(5)\n",
    "top_5_genres_eu = genres_sales_eu.head(5)\n",
    "top_5_genres_jp = genres_sales_jp.head(5)"
   ]
  },
  {
   "cell_type": "code",
   "execution_count": 40,
   "metadata": {},
   "outputs": [
    {
     "name": "stdout",
     "output_type": "stream",
     "text": [
      "              na_market_genres  eu_market_genres  jp_market_genres\n",
      "genre                                                             \n",
      "Action               29.218036         31.225677         18.111340\n",
      "Misc                 13.537536         12.796314         12.129202\n",
      "Platform             14.808290          0.000000         14.678230\n",
      "Racing                0.000000         14.226080          0.000000\n",
      "Role-Playing          0.000000          0.000000         39.874568\n",
      "Shooter              19.685885         19.088005          0.000000\n",
      "Sports               22.750253         22.663924         15.206660\n"
     ]
    }
   ],
   "source": [
    "#Crear un nuevo DF de las plataformas\n",
    "top_genres_df = pd.DataFrame({\n",
    "    'na_sales': top_5_genres_na,\n",
    "    'eu_sales': top_5_genres_eu,\n",
    "    'jp_sales': top_5_genres_jp\n",
    "}).fillna(0)\n",
    "\n",
    "#Obtener los porcentajes\n",
    "top_genres_df['na_market_genres'] = top_genres_df['na_sales'] / top_genres_df['na_sales'].sum() * 100\n",
    "top_genres_df['eu_market_genres'] = top_genres_df['eu_sales'] / top_genres_df['eu_sales'].sum() * 100\n",
    "top_genres_df['jp_market_genres'] = top_genres_df['jp_sales'] / top_genres_df['jp_sales'].sum() * 100\n",
    "\n",
    "top_genres_df = top_genres_df[['na_market_genres', 'eu_market_genres', 'jp_market_genres']]\n",
    "\n",
    "print(top_genres_df)"
   ]
  },
  {
   "cell_type": "markdown",
   "metadata": {},
   "source": [
    "Mientars Europa y Norte America prefieren generos de acción Japón predomina el genero de Role-Playing"
   ]
  },
  {
   "cell_type": "code",
   "execution_count": 41,
   "metadata": {},
   "outputs": [
    {
     "name": "stdout",
     "output_type": "stream",
     "text": [
      "        na_market_share  eu_market_share  jp_market_share\n",
      "rating                                                   \n",
      "AO             0.039875         0.033686         0.000000\n",
      "E             40.918829        39.222129        43.501460\n",
      "E10+          11.181402        10.410638         8.827211\n",
      "EC             0.048419         0.006075         0.000000\n",
      "K-A            0.081015         0.014910         0.320590\n",
      "M             23.686900        26.726271        14.105970\n",
      "RP             0.000000         0.004418         0.000000\n",
      "T             24.043558        23.581874        33.244768\n"
     ]
    }
   ],
   "source": [
    "esrb_sales_na = games_df.groupby('rating')['na_sales'].sum().sort_values(ascending=False)\n",
    "esrb_sales_eu = games_df.groupby('rating')['eu_sales'].sum().sort_values(ascending=False)\n",
    "esrb_sales_jp = games_df.groupby('rating')['jp_sales'].sum().sort_values(ascending=False)\n",
    "\n",
    "\n",
    "esrb_sales_df = pd.DataFrame({\n",
    "    'na_sales': esrb_sales_na,\n",
    "    'eu_sales': esrb_sales_eu,\n",
    "    'jp_sales': esrb_sales_jp\n",
    "}).fillna(0)\n",
    "\n",
    "esrb_sales_df['na_market_share'] = esrb_sales_df['na_sales'] / esrb_sales_df['na_sales'].sum() * 100\n",
    "esrb_sales_df['eu_market_share'] = esrb_sales_df['eu_sales'] / esrb_sales_df['eu_sales'].sum() * 100\n",
    "esrb_sales_df['jp_market_share'] = esrb_sales_df['jp_sales'] / esrb_sales_df['jp_sales'].sum() * 100\n",
    "\n",
    "esrb_sales_df = esrb_sales_df[['na_market_share', 'eu_market_share', 'jp_market_share']]\n",
    "print(esrb_sales_df)"
   ]
  },
  {
   "cell_type": "markdown",
   "metadata": {},
   "source": [
    "<div class=\"alert alert-block alert-success\">\n",
    "<b>Comentario del revisor:</b> <a class=\"tocSkip\"></a>\n",
    "\n",
    "Excelente! Con este análisis por región ayuda a complementar el análisis general anterior y a hacer zoom a los resultados por cada una de las regiones.   \n",
    "\n",
    "</div>"
   ]
  },
  {
   "cell_type": "markdown",
   "metadata": {},
   "source": [
    "Parece no afectar mucho"
   ]
  },
  {
   "cell_type": "markdown",
   "metadata": {},
   "source": [
    "# Paso 5. Prueba las siguientes hipótesis:"
   ]
  },
  {
   "cell_type": "code",
   "execution_count": 42,
   "metadata": {},
   "outputs": [
    {
     "name": "stdout",
     "output_type": "stream",
     "text": [
      "valor p: 1.0718459399074417e-05\n",
      "Rechazamos la hipótesis nula\n"
     ]
    }
   ],
   "source": [
    "xbox_one_scores = games_df[games_df['platform'] == 'XOne']['user_score'].dropna().astype(float)\n",
    "pc_scores = games_df[games_df['platform'] == 'PC']['user_score'].dropna().astype(float)\n",
    "\n",
    "alpha=0.05\n",
    "results = st.ttest_ind(xbox_one_scores, pc_scores, equal_var=False)\n",
    "\n",
    "print('valor p:', results.pvalue)# tu código: imprime el valor p obtenido)\n",
    "\n",
    "if results.pvalue < alpha:# su código: compara los valores p obtenidos con el nivel de significación estadística):\n",
    "    print(\"Rechazamos la hipótesis nula\")\n",
    "else:\n",
    "    print(\"No podemos rechazar la hipótesis nula\")"
   ]
  },
  {
   "cell_type": "code",
   "execution_count": 43,
   "metadata": {},
   "outputs": [
    {
     "name": "stdout",
     "output_type": "stream",
     "text": [
      "valor p: 0.18782272416195633\n",
      "No podemos rechazar la hipótesis nula\n"
     ]
    }
   ],
   "source": [
    "action_genre_scores = games_df[games_df['genre'] == 'Action']['user_score'].dropna()\n",
    "sports_genre_scores = games_df[games_df['genre'] == 'Sports']['user_score'].dropna()\n",
    "\n",
    "alpha=0.05\n",
    "results = st.ttest_ind(action_genre_scores, sports_genre_scores, equal_var=False)\n",
    "\n",
    "print('valor p:', results.pvalue)# tu código: imprime el valor p obtenido)\n",
    "\n",
    "if results.pvalue < alpha:# su código: compara los valores p obtenidos con el nivel de significación estadística):\n",
    "    print(\"Rechazamos la hipótesis nula\")\n",
    "else:\n",
    "    print(\"No podemos rechazar la hipótesis nula\")"
   ]
  },
  {
   "cell_type": "markdown",
   "metadata": {},
   "source": [
    " <div class=\"alert alert-block alert-warning\">\n",
    "<b>Comentario revisor</b> <a class=\"tocSkip\"></a>\n",
    "\n",
    "Para estas pruebas te recomiendo hacer una prueba de  Levene  para mostrar si las varianzas son iguales y agregarlo dentro de la función. Actualmente lo colocar como equal_var=False. Para esto, primero debes calcular las varianzas para cada uno de las plataformas y en un segundo tiempo debes de hacer uso de la siguiente función: \n",
    "    \n",
    "    levene(xbox_one_data['user_score'], pc_data['user_score'])\n",
    "    \n",
    "Adoptaremos un nivel de significancia de 0.05; si el valor p resultante es mayor a 0.05, no podemos rechazar la hipótesis nula, y si es menor a 0.05, rechazamos la hipótesis nula, indicando que las varianzas no son iguales. \n",
    "    \n",
    "Solamente recuerda que la prueba de levene no es sustituto a la prueba de st.ttest_ind, más bien es complemento para saber que colocar dentro del elemento \"equal_var\". En este caso como rechazamos la hipótesis de varianzas iguales debemos de colocar False. Es por eso que para terminar la prueba debes de realizar la prueba de st.ttest_ind considernado el resultado de la prueba realizada de levene    \n",
    "</div>"
   ]
  },
  {
   "cell_type": "markdown",
   "metadata": {},
   "source": [
    "1. Para las calificaciones promedio de los usuarios para las plataformas Xbox One y PC:\n",
    "Hipótesis nula: Las calificaciones promedio de los usuarios para Xbox One y PC son iguales. \n",
    "\n",
    "Hipótesis alternativa: Las calificaciones promedio de los usuarios para Xbox One y PC son diferentes. \n",
    "\n",
    "2. Para las calificaciones promedio de los usuarios para los géneros de Acción y Deportes:\n",
    "Hipótesis nula: Las calificaciones promedio de los usuarios para los géneros de Acción y Deportes son iguales.\n",
    "\n",
    "Hipótesis alternativa: Las calificaciones promedio de los usuarios para los géneros de Acción y Deportes son diferentes.\n",
    "\n",
    "El criterio utilizado para tomar este método fue debido a su capacidad para comparar las medias de dos grupos independientes en este caso, las calificaciones promedio de los usuarios para diferentes plataformas y géneros."
   ]
  },
  {
   "cell_type": "markdown",
   "metadata": {},
   "source": [
    "\n",
    "<div class=\"alert alert-block alert-warning\">\n",
    "<b>Comentario revisor</b> <a class=\"tocSkip\"></a>\n",
    "\n",
    "En general creo que hiciste un muy buen trabajo con el proyecto, pudiste limpiar y trabajar las bases de datos de beuna manera. Además, el análisis explorario de datos fue completo al mostrar resultados relevantes que pueden ser de mucha utilidad para la toma de decisiones y desarrollaste las pruebas de hipótesis de una buena manera. No obstante, recuerda que siempre podemos mejorar y te menciono algunos puntos que debes considerar:\n",
    "\n",
    "* Verificar que cuando llenamos variables con valores nulos los estamos comletando con valores que no sesgan nuestros resultados\n",
    "\n",
    "*  Considerar eliminar registros atipicos que puedan sesgar nuestros resultados. \n",
    "    \n",
    "*  Considerar desarrollar un análisis para comprobar los supuestos de la prueba de hipótesis (varianzas iguales)\n",
    "    \n",
    "</div>"
   ]
  }
 ],
 "metadata": {
  "ExecuteTimeLog": [
   {
    "duration": 419,
    "start_time": "2024-07-22T01:45:19.596Z"
   },
   {
    "duration": 67,
    "start_time": "2024-07-22T01:45:49.688Z"
   },
   {
    "duration": 49,
    "start_time": "2024-07-22T01:45:58.186Z"
   },
   {
    "duration": 25,
    "start_time": "2024-07-22T01:47:08.672Z"
   },
   {
    "duration": 21,
    "start_time": "2024-07-22T01:48:24.205Z"
   },
   {
    "duration": 4,
    "start_time": "2024-07-22T01:54:13.879Z"
   },
   {
    "duration": 49,
    "start_time": "2024-07-22T01:54:15.397Z"
   },
   {
    "duration": 33,
    "start_time": "2024-07-22T01:54:20.037Z"
   },
   {
    "duration": 19,
    "start_time": "2024-07-22T01:54:21.832Z"
   },
   {
    "duration": 343,
    "start_time": "2024-07-22T01:56:29.221Z"
   },
   {
    "duration": 24,
    "start_time": "2024-07-22T01:56:37.955Z"
   },
   {
    "duration": 1041,
    "start_time": "2024-07-22T02:01:25.414Z"
   },
   {
    "duration": 19,
    "start_time": "2024-07-22T02:01:52.548Z"
   },
   {
    "duration": 18,
    "start_time": "2024-07-22T02:02:25.081Z"
   },
   {
    "duration": 16,
    "start_time": "2024-07-22T02:08:54.778Z"
   },
   {
    "duration": 27,
    "start_time": "2024-07-22T02:10:07.322Z"
   },
   {
    "duration": 6,
    "start_time": "2024-07-22T02:10:50.111Z"
   },
   {
    "duration": 8,
    "start_time": "2024-07-22T02:11:17.590Z"
   },
   {
    "duration": 10,
    "start_time": "2024-07-22T02:15:26.324Z"
   },
   {
    "duration": 6,
    "start_time": "2024-07-22T02:15:58.384Z"
   },
   {
    "duration": 6,
    "start_time": "2024-07-22T02:16:23.170Z"
   },
   {
    "duration": 24,
    "start_time": "2024-07-22T02:16:45.385Z"
   },
   {
    "duration": 22,
    "start_time": "2024-07-22T02:16:58.294Z"
   },
   {
    "duration": 4,
    "start_time": "2024-07-22T02:24:45.943Z"
   },
   {
    "duration": 6,
    "start_time": "2024-07-22T02:24:55.984Z"
   },
   {
    "duration": 8,
    "start_time": "2024-07-22T02:25:57.392Z"
   },
   {
    "duration": 8,
    "start_time": "2024-07-22T02:26:17.331Z"
   },
   {
    "duration": 26,
    "start_time": "2024-07-22T02:28:43.657Z"
   },
   {
    "duration": 7,
    "start_time": "2024-07-22T02:28:58.279Z"
   },
   {
    "duration": 7,
    "start_time": "2024-07-22T02:29:39.676Z"
   },
   {
    "duration": 12,
    "start_time": "2024-07-22T02:29:51.048Z"
   },
   {
    "duration": 8,
    "start_time": "2024-07-22T02:29:56.170Z"
   },
   {
    "duration": 22,
    "start_time": "2024-07-22T02:31:38.741Z"
   },
   {
    "duration": 6,
    "start_time": "2024-07-22T02:35:07.215Z"
   },
   {
    "duration": 7,
    "start_time": "2024-07-22T02:36:27.823Z"
   },
   {
    "duration": 8,
    "start_time": "2024-07-22T02:36:42.461Z"
   },
   {
    "duration": 6,
    "start_time": "2024-07-22T02:38:45.869Z"
   },
   {
    "duration": 11,
    "start_time": "2024-07-22T02:41:24.227Z"
   },
   {
    "duration": 4,
    "start_time": "2024-07-22T02:42:18.734Z"
   },
   {
    "duration": 6,
    "start_time": "2024-07-22T02:42:33.411Z"
   },
   {
    "duration": 11,
    "start_time": "2024-07-22T02:44:13.285Z"
   },
   {
    "duration": 12,
    "start_time": "2024-07-22T02:44:26.737Z"
   },
   {
    "duration": 5,
    "start_time": "2024-07-22T02:45:02.994Z"
   },
   {
    "duration": 10,
    "start_time": "2024-07-22T02:45:15.338Z"
   },
   {
    "duration": 25,
    "start_time": "2024-07-22T02:48:54.437Z"
   },
   {
    "duration": 9,
    "start_time": "2024-07-22T02:49:46.905Z"
   },
   {
    "duration": 28,
    "start_time": "2024-07-22T02:49:59.471Z"
   },
   {
    "duration": 19,
    "start_time": "2024-07-22T02:50:06.564Z"
   },
   {
    "duration": 22,
    "start_time": "2024-07-22T02:50:38.869Z"
   },
   {
    "duration": 24,
    "start_time": "2024-07-22T02:51:03.420Z"
   },
   {
    "duration": 4438,
    "start_time": "2024-07-22T02:51:19.042Z"
   },
   {
    "duration": 4,
    "start_time": "2024-07-22T02:52:08.127Z"
   },
   {
    "duration": 466,
    "start_time": "2024-07-22T02:52:15.020Z"
   },
   {
    "duration": 33,
    "start_time": "2024-07-22T03:05:06.522Z"
   },
   {
    "duration": 1144,
    "start_time": "2024-07-22T03:09:15.845Z"
   },
   {
    "duration": 22,
    "start_time": "2024-07-22T03:10:30.239Z"
   },
   {
    "duration": 158,
    "start_time": "2024-07-22T03:11:00.489Z"
   },
   {
    "duration": 247,
    "start_time": "2024-07-22T03:11:40.356Z"
   },
   {
    "duration": 13,
    "start_time": "2024-07-22T03:11:44.933Z"
   },
   {
    "duration": 465,
    "start_time": "2024-07-22T03:11:48.968Z"
   },
   {
    "duration": 11,
    "start_time": "2024-07-22T03:12:03.449Z"
   },
   {
    "duration": 473,
    "start_time": "2024-07-22T03:12:06.708Z"
   },
   {
    "duration": 76,
    "start_time": "2024-07-22T03:12:59.943Z"
   },
   {
    "duration": 40,
    "start_time": "2024-07-22T03:14:02.396Z"
   },
   {
    "duration": 37,
    "start_time": "2024-07-22T03:14:08.747Z"
   },
   {
    "duration": 38,
    "start_time": "2024-07-22T03:14:14.251Z"
   },
   {
    "duration": 4,
    "start_time": "2024-07-22T03:14:22.477Z"
   },
   {
    "duration": 5,
    "start_time": "2024-07-22T03:14:30.470Z"
   },
   {
    "duration": 465,
    "start_time": "2024-07-22T03:15:37.072Z"
   },
   {
    "duration": 10,
    "start_time": "2024-07-22T03:16:09.642Z"
   },
   {
    "duration": 12,
    "start_time": "2024-07-22T03:16:12.577Z"
   },
   {
    "duration": 12,
    "start_time": "2024-07-22T03:16:44.500Z"
   },
   {
    "duration": 26,
    "start_time": "2024-07-22T03:17:03.298Z"
   },
   {
    "duration": 18,
    "start_time": "2024-07-22T03:17:28.259Z"
   },
   {
    "duration": 316,
    "start_time": "2024-07-22T03:17:50.690Z"
   },
   {
    "duration": 410,
    "start_time": "2024-07-22T03:18:22.456Z"
   },
   {
    "duration": 23,
    "start_time": "2024-07-22T03:19:20.658Z"
   },
   {
    "duration": 24,
    "start_time": "2024-07-22T03:21:27.097Z"
   },
   {
    "duration": 23,
    "start_time": "2024-07-22T03:21:29.650Z"
   },
   {
    "duration": 12,
    "start_time": "2024-07-22T03:22:29.898Z"
   },
   {
    "duration": 21,
    "start_time": "2024-07-22T03:22:42.477Z"
   },
   {
    "duration": 19,
    "start_time": "2024-07-22T03:23:37.399Z"
   },
   {
    "duration": 14,
    "start_time": "2024-07-22T03:24:26.950Z"
   },
   {
    "duration": 18,
    "start_time": "2024-07-22T03:27:13.748Z"
   },
   {
    "duration": 432,
    "start_time": "2024-07-22T03:28:15.178Z"
   },
   {
    "duration": 382,
    "start_time": "2024-07-22T03:28:38.962Z"
   },
   {
    "duration": 15,
    "start_time": "2024-07-22T03:28:45.583Z"
   },
   {
    "duration": 537,
    "start_time": "2024-07-22T03:31:29.050Z"
   },
   {
    "duration": 548,
    "start_time": "2024-07-22T03:31:33.991Z"
   },
   {
    "duration": 6,
    "start_time": "2024-07-22T03:36:48.017Z"
   },
   {
    "duration": 18,
    "start_time": "2024-07-22T03:37:04.416Z"
   },
   {
    "duration": 7,
    "start_time": "2024-07-22T03:37:22.758Z"
   },
   {
    "duration": 503,
    "start_time": "2024-07-22T03:37:29.875Z"
   },
   {
    "duration": 12,
    "start_time": "2024-07-22T03:37:50.424Z"
   },
   {
    "duration": 10,
    "start_time": "2024-07-22T03:40:38.834Z"
   },
   {
    "duration": 12,
    "start_time": "2024-07-22T03:40:52.125Z"
   },
   {
    "duration": 4934,
    "start_time": "2024-07-25T22:10:46.206Z"
   },
   {
    "duration": 67,
    "start_time": "2024-07-25T22:10:51.144Z"
   },
   {
    "duration": 23,
    "start_time": "2024-07-25T22:10:51.214Z"
   },
   {
    "duration": 22,
    "start_time": "2024-07-25T22:10:51.239Z"
   },
   {
    "duration": 27,
    "start_time": "2024-07-25T22:10:51.266Z"
   },
   {
    "duration": 51,
    "start_time": "2024-07-25T22:10:51.297Z"
   },
   {
    "duration": 10,
    "start_time": "2024-07-25T22:10:51.351Z"
   },
   {
    "duration": 6,
    "start_time": "2024-07-25T22:10:51.364Z"
   },
   {
    "duration": 61,
    "start_time": "2024-07-25T22:10:51.373Z"
   },
   {
    "duration": 24,
    "start_time": "2024-07-25T22:10:51.437Z"
   },
   {
    "duration": 8,
    "start_time": "2024-07-25T22:10:51.464Z"
   },
   {
    "duration": 11,
    "start_time": "2024-07-25T22:10:51.475Z"
   },
   {
    "duration": 12,
    "start_time": "2024-07-25T22:10:51.527Z"
   },
   {
    "duration": 10,
    "start_time": "2024-07-25T22:10:51.546Z"
   },
   {
    "duration": 19,
    "start_time": "2024-07-25T22:10:51.559Z"
   },
   {
    "duration": 49,
    "start_time": "2024-07-25T22:10:51.581Z"
   },
   {
    "duration": 402,
    "start_time": "2024-07-25T22:10:51.633Z"
   },
   {
    "duration": 22,
    "start_time": "2024-07-25T22:10:52.038Z"
   },
   {
    "duration": 14,
    "start_time": "2024-07-25T22:10:52.063Z"
   },
   {
    "duration": 46,
    "start_time": "2024-07-25T22:10:52.080Z"
   },
   {
    "duration": 409,
    "start_time": "2024-07-25T22:10:52.129Z"
   },
   {
    "duration": 15,
    "start_time": "2024-07-25T22:10:52.542Z"
   },
   {
    "duration": 567,
    "start_time": "2024-07-25T22:10:52.560Z"
   },
   {
    "duration": 6,
    "start_time": "2024-07-25T22:10:53.130Z"
   },
   {
    "duration": 461,
    "start_time": "2024-07-25T22:10:53.139Z"
   },
   {
    "duration": 10,
    "start_time": "2024-07-25T22:10:53.603Z"
   },
   {
    "duration": 6,
    "start_time": "2024-07-25T22:14:27.964Z"
   },
   {
    "duration": 6,
    "start_time": "2024-07-25T22:14:57.186Z"
   },
   {
    "duration": 1453,
    "start_time": "2024-07-25T22:15:24.975Z"
   },
   {
    "duration": 375,
    "start_time": "2024-07-25T22:15:59.730Z"
   },
   {
    "duration": 11,
    "start_time": "2024-07-25T22:16:37.483Z"
   },
   {
    "duration": 891,
    "start_time": "2024-07-25T22:19:06.827Z"
   },
   {
    "duration": 19,
    "start_time": "2024-07-25T22:19:51.429Z"
   },
   {
    "duration": 6,
    "start_time": "2024-07-25T22:20:00.194Z"
   },
   {
    "duration": 9,
    "start_time": "2024-07-25T22:20:13.051Z"
   },
   {
    "duration": 295,
    "start_time": "2024-07-25T22:20:56.645Z"
   },
   {
    "duration": 330,
    "start_time": "2024-07-25T22:21:01.355Z"
   },
   {
    "duration": 8,
    "start_time": "2024-07-25T22:22:38.278Z"
   },
   {
    "duration": 294,
    "start_time": "2024-07-25T22:24:00.751Z"
   },
   {
    "duration": 349,
    "start_time": "2024-07-25T22:24:09.476Z"
   },
   {
    "duration": 4,
    "start_time": "2024-07-25T22:24:20.875Z"
   },
   {
    "duration": 7,
    "start_time": "2024-07-25T22:24:26.730Z"
   },
   {
    "duration": 8,
    "start_time": "2024-07-25T22:24:43.909Z"
   },
   {
    "duration": 8,
    "start_time": "2024-07-25T22:25:11.331Z"
   },
   {
    "duration": 13,
    "start_time": "2024-07-25T22:29:16.869Z"
   },
   {
    "duration": 5,
    "start_time": "2024-07-25T22:30:05.150Z"
   },
   {
    "duration": 21,
    "start_time": "2024-07-25T22:30:44.785Z"
   },
   {
    "duration": 16,
    "start_time": "2024-07-25T22:30:59.592Z"
   },
   {
    "duration": 17,
    "start_time": "2024-07-25T22:32:17.754Z"
   },
   {
    "duration": 25,
    "start_time": "2024-07-25T22:42:53.579Z"
   },
   {
    "duration": 7,
    "start_time": "2024-07-25T22:43:12.906Z"
   },
   {
    "duration": 10,
    "start_time": "2024-07-25T22:43:22.113Z"
   },
   {
    "duration": 14,
    "start_time": "2024-07-25T22:44:25.253Z"
   },
   {
    "duration": 4,
    "start_time": "2024-07-25T22:44:58.044Z"
   },
   {
    "duration": 30,
    "start_time": "2024-07-25T22:49:07.029Z"
   },
   {
    "duration": 5,
    "start_time": "2024-07-25T22:49:31.392Z"
   },
   {
    "duration": 16,
    "start_time": "2024-07-25T22:49:33.383Z"
   },
   {
    "duration": 24,
    "start_time": "2024-07-25T22:53:40.055Z"
   },
   {
    "duration": 24,
    "start_time": "2024-07-25T23:06:12.704Z"
   },
   {
    "duration": 4,
    "start_time": "2024-07-25T23:06:30.042Z"
   },
   {
    "duration": 86,
    "start_time": "2024-07-25T23:07:49.614Z"
   },
   {
    "duration": 83,
    "start_time": "2024-07-25T23:08:06.599Z"
   },
   {
    "duration": 15,
    "start_time": "2024-07-25T23:08:24.193Z"
   },
   {
    "duration": 11,
    "start_time": "2024-07-25T23:11:57.605Z"
   },
   {
    "duration": 598,
    "start_time": "2024-07-25T23:13:42.008Z"
   },
   {
    "duration": 14,
    "start_time": "2024-07-25T23:14:18.056Z"
   },
   {
    "duration": 319,
    "start_time": "2024-07-27T22:36:19.297Z"
   },
   {
    "duration": 4824,
    "start_time": "2024-07-27T22:36:29.082Z"
   },
   {
    "duration": 65,
    "start_time": "2024-07-27T22:36:33.909Z"
   },
   {
    "duration": 29,
    "start_time": "2024-07-27T22:36:33.977Z"
   },
   {
    "duration": 19,
    "start_time": "2024-07-27T22:36:34.009Z"
   },
   {
    "duration": 30,
    "start_time": "2024-07-27T22:36:34.033Z"
   },
   {
    "duration": 52,
    "start_time": "2024-07-27T22:36:34.067Z"
   },
   {
    "duration": 10,
    "start_time": "2024-07-27T22:36:34.122Z"
   },
   {
    "duration": 6,
    "start_time": "2024-07-27T22:36:34.135Z"
   },
   {
    "duration": 63,
    "start_time": "2024-07-27T22:36:34.144Z"
   },
   {
    "duration": 22,
    "start_time": "2024-07-27T22:36:34.210Z"
   },
   {
    "duration": 8,
    "start_time": "2024-07-27T22:36:34.236Z"
   },
   {
    "duration": 11,
    "start_time": "2024-07-27T22:36:34.247Z"
   },
   {
    "duration": 53,
    "start_time": "2024-07-27T22:36:34.261Z"
   },
   {
    "duration": 11,
    "start_time": "2024-07-27T22:36:34.321Z"
   },
   {
    "duration": 23,
    "start_time": "2024-07-27T22:36:34.335Z"
   },
   {
    "duration": 13,
    "start_time": "2024-07-27T22:36:34.361Z"
   },
   {
    "duration": 435,
    "start_time": "2024-07-27T22:36:34.376Z"
   },
   {
    "duration": 23,
    "start_time": "2024-07-27T22:36:34.814Z"
   },
   {
    "duration": 15,
    "start_time": "2024-07-27T22:36:34.840Z"
   },
   {
    "duration": 48,
    "start_time": "2024-07-27T22:36:34.858Z"
   },
   {
    "duration": 408,
    "start_time": "2024-07-27T22:36:34.909Z"
   },
   {
    "duration": 17,
    "start_time": "2024-07-27T22:36:35.319Z"
   },
   {
    "duration": 568,
    "start_time": "2024-07-27T22:36:35.339Z"
   },
   {
    "duration": 7,
    "start_time": "2024-07-27T22:36:35.910Z"
   },
   {
    "duration": 457,
    "start_time": "2024-07-27T22:36:35.920Z"
   },
   {
    "duration": 10,
    "start_time": "2024-07-27T22:36:36.382Z"
   },
   {
    "duration": 6,
    "start_time": "2024-07-27T22:36:36.407Z"
   },
   {
    "duration": 377,
    "start_time": "2024-07-27T22:36:36.416Z"
   },
   {
    "duration": 11,
    "start_time": "2024-07-27T22:36:36.805Z"
   },
   {
    "duration": 9,
    "start_time": "2024-07-27T22:36:36.819Z"
   },
   {
    "duration": 334,
    "start_time": "2024-07-27T22:36:36.831Z"
   },
   {
    "duration": 7,
    "start_time": "2024-07-27T22:36:37.169Z"
   },
   {
    "duration": 332,
    "start_time": "2024-07-27T22:36:37.179Z"
   },
   {
    "duration": 9,
    "start_time": "2024-07-27T22:36:37.514Z"
   },
   {
    "duration": 13,
    "start_time": "2024-07-27T22:36:37.527Z"
   },
   {
    "duration": 4,
    "start_time": "2024-07-27T22:36:37.543Z"
   },
   {
    "duration": 57,
    "start_time": "2024-07-27T22:36:37.550Z"
   },
   {
    "duration": 14,
    "start_time": "2024-07-27T22:36:37.610Z"
   },
   {
    "duration": 4,
    "start_time": "2024-07-27T22:36:37.627Z"
   },
   {
    "duration": 19,
    "start_time": "2024-07-27T22:36:37.634Z"
   },
   {
    "duration": 63,
    "start_time": "2024-07-27T22:36:37.661Z"
   },
   {
    "duration": 15,
    "start_time": "2024-07-27T22:36:37.727Z"
   },
   {
    "duration": 15,
    "start_time": "2024-07-27T22:36:37.744Z"
   },
   {
    "duration": 27,
    "start_time": "2024-07-27T22:36:52.494Z"
   },
   {
    "duration": 10,
    "start_time": "2024-07-27T22:38:17.552Z"
   },
   {
    "duration": 6,
    "start_time": "2024-07-27T22:38:38.730Z"
   },
   {
    "duration": 25,
    "start_time": "2024-07-27T22:38:41.200Z"
   },
   {
    "duration": 13,
    "start_time": "2024-07-27T22:42:27.708Z"
   },
   {
    "duration": 17,
    "start_time": "2024-07-27T22:42:41.959Z"
   },
   {
    "duration": 407,
    "start_time": "2024-07-27T22:42:52.614Z"
   },
   {
    "duration": 17,
    "start_time": "2024-07-27T22:43:05.236Z"
   },
   {
    "duration": 447,
    "start_time": "2024-07-27T22:43:11.129Z"
   },
   {
    "duration": 5,
    "start_time": "2024-07-27T22:43:55.208Z"
   },
   {
    "duration": 364,
    "start_time": "2024-07-27T22:43:57.010Z"
   },
   {
    "duration": 9,
    "start_time": "2024-07-27T22:44:06.815Z"
   },
   {
    "duration": 6,
    "start_time": "2024-07-27T22:44:08.914Z"
   },
   {
    "duration": 357,
    "start_time": "2024-07-27T22:44:12.875Z"
   },
   {
    "duration": 15,
    "start_time": "2024-07-27T22:44:26.959Z"
   },
   {
    "duration": 9,
    "start_time": "2024-07-27T22:44:28.684Z"
   },
   {
    "duration": 295,
    "start_time": "2024-07-27T22:44:33.871Z"
   },
   {
    "duration": 7,
    "start_time": "2024-07-27T22:44:50.527Z"
   },
   {
    "duration": 382,
    "start_time": "2024-07-27T22:44:55.850Z"
   },
   {
    "duration": 8,
    "start_time": "2024-07-27T22:45:01.131Z"
   },
   {
    "duration": 13,
    "start_time": "2024-07-27T22:45:07.291Z"
   },
   {
    "duration": 5,
    "start_time": "2024-07-27T22:45:09.040Z"
   },
   {
    "duration": 16,
    "start_time": "2024-07-27T22:45:14.561Z"
   }
  ],
  "kernelspec": {
   "display_name": "Python 3 (ipykernel)",
   "language": "python",
   "name": "python3"
  },
  "language_info": {
   "codemirror_mode": {
    "name": "ipython",
    "version": 3
   },
   "file_extension": ".py",
   "mimetype": "text/x-python",
   "name": "python",
   "nbconvert_exporter": "python",
   "pygments_lexer": "ipython3",
   "version": "3.9.19"
  },
  "toc": {
   "base_numbering": 1,
   "nav_menu": {},
   "number_sections": true,
   "sideBar": true,
   "skip_h1_title": true,
   "title_cell": "Table of Contents",
   "title_sidebar": "Contents",
   "toc_cell": false,
   "toc_position": {},
   "toc_section_display": true,
   "toc_window_display": false
  }
 },
 "nbformat": 4,
 "nbformat_minor": 2
}
